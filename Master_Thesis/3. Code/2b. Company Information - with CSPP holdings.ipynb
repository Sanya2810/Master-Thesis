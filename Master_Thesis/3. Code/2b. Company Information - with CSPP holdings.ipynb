{
 "cells": [
  {
   "cell_type": "markdown",
   "metadata": {},
   "source": [
    "## Company Information data combined with ECB portfolio data"
   ]
  },
  {
   "cell_type": "markdown",
   "metadata": {},
   "source": [
    "<p>The revenue, industry classification and country of risk information data was merged with the portfolio data to gather all information in one file. The revenue was also converted into million dollars format as it would be required to calculate carbon footprint.</p>"
   ]
  },
  {
   "cell_type": "markdown",
   "metadata": {},
   "source": [
    "### Libraries to import"
   ]
  },
  {
   "cell_type": "code",
   "execution_count": 1,
   "metadata": {},
   "outputs": [],
   "source": [
    "import datetime as dt\n",
    "import pandas as pd\n",
    "import os\n",
    "from functions_file_2 import clean_file,clean_file_rev,clean_file_industry,merge_revenue,merge_country,clean_country\n"
   ]
  },
  {
   "cell_type": "code",
   "execution_count": 2,
   "metadata": {},
   "outputs": [],
   "source": [
    "directory = os.getcwd()\n",
    "url = directory[:-7] + \"2. Data/\""
   ]
  },
  {
   "cell_type": "markdown",
   "metadata": {},
   "source": [
    "### Import Dataset"
   ]
  },
  {
   "cell_type": "code",
   "execution_count": 3,
   "metadata": {},
   "outputs": [],
   "source": [
    "ecb_portfolio = pd.read_excel(url + \"1. ECB Data/ECB_Portfolio_2017_2022.xlsx\")"
   ]
  },
  {
   "cell_type": "code",
   "execution_count": 4,
   "metadata": {},
   "outputs": [],
   "source": [
    "# revenue information\n",
    "bonds_snp = pd.read_excel(url + \"2. Company Information Data/Combined_Revenue_S&P.xlsx\" )\n",
    "mapping_revenue = pd.read_excel(url + \"2. Company Information Data/3. Mapping/Mapping.xlsx\",sheet_name = \"Bonds_Revenue_Mapping\",skiprows=4)\n"
   ]
  },
  {
   "cell_type": "code",
   "execution_count": 5,
   "metadata": {},
   "outputs": [],
   "source": [
    "# industry classification information\n",
    "sector_info = pd.read_excel(url + \"2. Company Information Data/3. Mapping/Mapping.xlsx\",sheet_name = \"Bonds_SIC_Mapping\",skiprows=4)\n"
   ]
  },
  {
   "cell_type": "code",
   "execution_count": 6,
   "metadata": {},
   "outputs": [],
   "source": [
    "# country of risk\n",
    "country_risk_data = pd.read_excel(url + \"2. Company Information Data/Company's Country of Risk Info.xlsx\")\n",
    "mapping_country = pd.read_excel(url + \"2. Company Information Data/3. Mapping/Mapping.xlsx\",sheet_name = \"Country_Mapping\",skiprows=4)\n"
   ]
  },
  {
   "cell_type": "markdown",
   "metadata": {},
   "source": [
    "### Portfolio with revenue"
   ]
  },
  {
   "cell_type": "code",
   "execution_count": 7,
   "metadata": {},
   "outputs": [],
   "source": [
    "# clean the bonds data\n",
    "bonds_snp = clean_file(bonds_snp)"
   ]
  },
  {
   "cell_type": "code",
   "execution_count": 8,
   "metadata": {},
   "outputs": [],
   "source": [
    "# merge ecb portfolio with revenue data from S&P and mapped file\n",
    "df = merge_revenue(ecb_portfolio,bonds_snp,mapping_revenue)"
   ]
  },
  {
   "cell_type": "code",
   "execution_count": 9,
   "metadata": {},
   "outputs": [],
   "source": [
    "# Portfolio with total revenue\n",
    "df_revenue = clean_file_rev(df)"
   ]
  },
  {
   "cell_type": "markdown",
   "metadata": {},
   "source": [
    "#### Converting revenue to million format"
   ]
  },
  {
   "cell_type": "code",
   "execution_count": 10,
   "metadata": {},
   "outputs": [
    {
     "data": {
      "text/html": [
       "<div>\n",
       "<style scoped>\n",
       "    .dataframe tbody tr th:only-of-type {\n",
       "        vertical-align: middle;\n",
       "    }\n",
       "\n",
       "    .dataframe tbody tr th {\n",
       "        vertical-align: top;\n",
       "    }\n",
       "\n",
       "    .dataframe thead th {\n",
       "        text-align: right;\n",
       "    }\n",
       "</style>\n",
       "<table border=\"1\" class=\"dataframe\">\n",
       "  <thead>\n",
       "    <tr style=\"text-align: right;\">\n",
       "      <th></th>\n",
       "      <th>NCB</th>\n",
       "      <th>ISIN_CODE</th>\n",
       "      <th>ISSUER_NAME</th>\n",
       "      <th>MATURITY_DATE</th>\n",
       "      <th>COUPON_RATE</th>\n",
       "      <th>PUBLISHED_DATE</th>\n",
       "      <th>YEAR</th>\n",
       "      <th>MONTH</th>\n",
       "      <th>TOTAL__REVENUE</th>\n",
       "    </tr>\n",
       "  </thead>\n",
       "  <tbody>\n",
       "    <tr>\n",
       "      <th>0</th>\n",
       "      <td>BE</td>\n",
       "      <td>BE0002178441</td>\n",
       "      <td>Delhaize Group S.A.</td>\n",
       "      <td>19/10/2018</td>\n",
       "      <td>4.25</td>\n",
       "      <td>2018-06-08</td>\n",
       "      <td>2018</td>\n",
       "      <td>6</td>\n",
       "      <td>71057.21</td>\n",
       "    </tr>\n",
       "    <tr>\n",
       "      <th>1</th>\n",
       "      <td>BE</td>\n",
       "      <td>BE0002189554</td>\n",
       "      <td>Delhaize Group S.A.</td>\n",
       "      <td>27/02/2020</td>\n",
       "      <td>3.125</td>\n",
       "      <td>2018-06-08</td>\n",
       "      <td>2018</td>\n",
       "      <td>6</td>\n",
       "      <td>71057.21</td>\n",
       "    </tr>\n",
       "    <tr>\n",
       "      <th>2</th>\n",
       "      <td>BE</td>\n",
       "      <td>BE0002239086</td>\n",
       "      <td>Elia System Operator S.A./N.V.</td>\n",
       "      <td>27/05/2024</td>\n",
       "      <td>1.375</td>\n",
       "      <td>2018-06-08</td>\n",
       "      <td>2018</td>\n",
       "      <td>6</td>\n",
       "      <td>0.00</td>\n",
       "    </tr>\n",
       "    <tr>\n",
       "      <th>3</th>\n",
       "      <td>BE</td>\n",
       "      <td>BE0002256254</td>\n",
       "      <td>RESA SA</td>\n",
       "      <td>22/07/2026</td>\n",
       "      <td>1</td>\n",
       "      <td>2018-06-08</td>\n",
       "      <td>2018</td>\n",
       "      <td>6</td>\n",
       "      <td>393.06</td>\n",
       "    </tr>\n",
       "    <tr>\n",
       "      <th>4</th>\n",
       "      <td>BE</td>\n",
       "      <td>BE0002269380</td>\n",
       "      <td>Cofinimmo S.A./N.V.</td>\n",
       "      <td>09/12/2024</td>\n",
       "      <td>2</td>\n",
       "      <td>2018-06-08</td>\n",
       "      <td>2018</td>\n",
       "      <td>6</td>\n",
       "      <td>297.38</td>\n",
       "    </tr>\n",
       "  </tbody>\n",
       "</table>\n",
       "</div>"
      ],
      "text/plain": [
       "  NCB     ISIN_CODE                     ISSUER_NAME MATURITY_DATE COUPON_RATE  \\\n",
       "0  BE  BE0002178441             Delhaize Group S.A.    19/10/2018        4.25   \n",
       "1  BE  BE0002189554             Delhaize Group S.A.    27/02/2020       3.125   \n",
       "2  BE  BE0002239086  Elia System Operator S.A./N.V.    27/05/2024       1.375   \n",
       "3  BE  BE0002256254                         RESA SA    22/07/2026           1   \n",
       "4  BE  BE0002269380             Cofinimmo S.A./N.V.    09/12/2024           2   \n",
       "\n",
       "  PUBLISHED_DATE  YEAR  MONTH  TOTAL__REVENUE  \n",
       "0     2018-06-08  2018      6        71057.21  \n",
       "1     2018-06-08  2018      6        71057.21  \n",
       "2     2018-06-08  2018      6            0.00  \n",
       "3     2018-06-08  2018      6          393.06  \n",
       "4     2018-06-08  2018      6          297.38  "
      ]
     },
     "execution_count": 10,
     "metadata": {},
     "output_type": "execute_result"
    }
   ],
   "source": [
    "df_revenue['TOTAL__REVENUE'] = (df_revenue['TOTAL__REVENUE'].apply(lambda x: x/1000)).round(2)\n",
    "df_revenue.head()"
   ]
  },
  {
   "cell_type": "markdown",
   "metadata": {},
   "source": [
    "### Portfolio with Industry Classification"
   ]
  },
  {
   "cell_type": "code",
   "execution_count": 11,
   "metadata": {},
   "outputs": [],
   "source": [
    "sector_info = sector_info[['Unique_ISIN_Code','SIC_CODE','NACE_CODE','ECONOMIC_SECTOR']]\n"
   ]
  },
  {
   "cell_type": "code",
   "execution_count": 12,
   "metadata": {},
   "outputs": [],
   "source": [
    "# merge with industry classification information\n",
    "subset = ['NCB', 'ISIN_CODE', 'ISSUER_NAME', 'MATURITY_DATE', 'COUPON_RATE','PUBLISHED_DATE', 'YEAR', 'MONTH', 'TOTAL__REVENUE']\n",
    "merge_sector = df_revenue.merge(sector_info,left_on = ['ISIN_CODE'],right_on= ['Unique_ISIN_Code'], how = \"left\").drop_duplicates(subset = subset)\n"
   ]
  },
  {
   "cell_type": "code",
   "execution_count": 13,
   "metadata": {},
   "outputs": [],
   "source": [
    "# data includes additional information about SIC Code, NACE Code, Economic Sector\n",
    "df_company_info = clean_file_industry(merge_sector)"
   ]
  },
  {
   "cell_type": "code",
   "execution_count": 14,
   "metadata": {},
   "outputs": [
    {
     "data": {
      "text/html": [
       "<div>\n",
       "<style scoped>\n",
       "    .dataframe tbody tr th:only-of-type {\n",
       "        vertical-align: middle;\n",
       "    }\n",
       "\n",
       "    .dataframe tbody tr th {\n",
       "        vertical-align: top;\n",
       "    }\n",
       "\n",
       "    .dataframe thead th {\n",
       "        text-align: right;\n",
       "    }\n",
       "</style>\n",
       "<table border=\"1\" class=\"dataframe\">\n",
       "  <thead>\n",
       "    <tr style=\"text-align: right;\">\n",
       "      <th></th>\n",
       "      <th>NCB</th>\n",
       "      <th>ISIN_CODE</th>\n",
       "      <th>ISSUER_NAME</th>\n",
       "      <th>MATURITY_DATE</th>\n",
       "      <th>COUPON_RATE</th>\n",
       "      <th>PUBLISHED_DATE</th>\n",
       "      <th>YEAR</th>\n",
       "      <th>MONTH</th>\n",
       "      <th>TOTAL__REVENUE</th>\n",
       "      <th>SIC_CODE</th>\n",
       "      <th>NACE_CODE</th>\n",
       "      <th>ECONOMIC_SECTOR</th>\n",
       "    </tr>\n",
       "  </thead>\n",
       "  <tbody>\n",
       "    <tr>\n",
       "      <th>0</th>\n",
       "      <td>BE</td>\n",
       "      <td>BE0002178441</td>\n",
       "      <td>Delhaize Group S.A.</td>\n",
       "      <td>19/10/2018</td>\n",
       "      <td>4.25</td>\n",
       "      <td>2018-06-08</td>\n",
       "      <td>2018</td>\n",
       "      <td>6</td>\n",
       "      <td>71057.21</td>\n",
       "      <td>5411</td>\n",
       "      <td>G</td>\n",
       "      <td>Beverages</td>\n",
       "    </tr>\n",
       "    <tr>\n",
       "      <th>1</th>\n",
       "      <td>BE</td>\n",
       "      <td>BE0002189554</td>\n",
       "      <td>Delhaize Group S.A.</td>\n",
       "      <td>27/02/2020</td>\n",
       "      <td>3.125</td>\n",
       "      <td>2018-06-08</td>\n",
       "      <td>2018</td>\n",
       "      <td>6</td>\n",
       "      <td>71057.21</td>\n",
       "      <td>5411</td>\n",
       "      <td>G</td>\n",
       "      <td>Beverages</td>\n",
       "    </tr>\n",
       "    <tr>\n",
       "      <th>2</th>\n",
       "      <td>BE</td>\n",
       "      <td>BE0002239086</td>\n",
       "      <td>Elia System Operator S.A./N.V.</td>\n",
       "      <td>27/05/2024</td>\n",
       "      <td>1.375</td>\n",
       "      <td>2018-06-08</td>\n",
       "      <td>2018</td>\n",
       "      <td>6</td>\n",
       "      <td>0.00</td>\n",
       "      <td>6726</td>\n",
       "      <td>K</td>\n",
       "      <td>Other sectors</td>\n",
       "    </tr>\n",
       "    <tr>\n",
       "      <th>3</th>\n",
       "      <td>BE</td>\n",
       "      <td>BE0002256254</td>\n",
       "      <td>RESA SA</td>\n",
       "      <td>22/07/2026</td>\n",
       "      <td>1</td>\n",
       "      <td>2018-06-08</td>\n",
       "      <td>2018</td>\n",
       "      <td>6</td>\n",
       "      <td>393.06</td>\n",
       "      <td>4931</td>\n",
       "      <td>D</td>\n",
       "      <td>Utilities</td>\n",
       "    </tr>\n",
       "    <tr>\n",
       "      <th>4</th>\n",
       "      <td>BE</td>\n",
       "      <td>BE0002269380</td>\n",
       "      <td>Cofinimmo S.A./N.V.</td>\n",
       "      <td>09/12/2024</td>\n",
       "      <td>2</td>\n",
       "      <td>2018-06-08</td>\n",
       "      <td>2018</td>\n",
       "      <td>6</td>\n",
       "      <td>297.38</td>\n",
       "      <td>6531</td>\n",
       "      <td>L</td>\n",
       "      <td>Real estate</td>\n",
       "    </tr>\n",
       "  </tbody>\n",
       "</table>\n",
       "</div>"
      ],
      "text/plain": [
       "  NCB     ISIN_CODE                     ISSUER_NAME MATURITY_DATE COUPON_RATE  \\\n",
       "0  BE  BE0002178441             Delhaize Group S.A.    19/10/2018        4.25   \n",
       "1  BE  BE0002189554             Delhaize Group S.A.    27/02/2020       3.125   \n",
       "2  BE  BE0002239086  Elia System Operator S.A./N.V.    27/05/2024       1.375   \n",
       "3  BE  BE0002256254                         RESA SA    22/07/2026           1   \n",
       "4  BE  BE0002269380             Cofinimmo S.A./N.V.    09/12/2024           2   \n",
       "\n",
       "  PUBLISHED_DATE  YEAR  MONTH  TOTAL__REVENUE  SIC_CODE NACE_CODE  \\\n",
       "0     2018-06-08  2018      6        71057.21      5411         G   \n",
       "1     2018-06-08  2018      6        71057.21      5411         G   \n",
       "2     2018-06-08  2018      6            0.00      6726         K   \n",
       "3     2018-06-08  2018      6          393.06      4931         D   \n",
       "4     2018-06-08  2018      6          297.38      6531         L   \n",
       "\n",
       "  ECONOMIC_SECTOR  \n",
       "0       Beverages  \n",
       "1       Beverages  \n",
       "2   Other sectors  \n",
       "3       Utilities  \n",
       "4     Real estate  "
      ]
     },
     "execution_count": 14,
     "metadata": {},
     "output_type": "execute_result"
    }
   ],
   "source": [
    "df_company_info.head()"
   ]
  },
  {
   "cell_type": "markdown",
   "metadata": {},
   "source": [
    "#### Filtering out data with no revenue information"
   ]
  },
  {
   "cell_type": "markdown",
   "metadata": {},
   "source": [
    "<p> Revenue information for year 2017 was not available for 155 individual companies, a total of 59461 rows (18% of the total data). These rows were removed from the database. A company named 'Delta Lloyd NV' had negative revenue was also removed.</p>"
   ]
  },
  {
   "cell_type": "code",
   "execution_count": 15,
   "metadata": {},
   "outputs": [
    {
     "name": "stdout",
     "output_type": "stream",
     "text": [
      "156\n"
     ]
    }
   ],
   "source": [
    "# no revenue information available\n",
    "print(df_company_info[df_company_info['TOTAL__REVENUE'] <= 0]['ISSUER_NAME'].nunique())\n",
    "\n",
    "# removing rows no revenue information\n",
    "final_data_co_info = df_company_info[df_company_info['TOTAL__REVENUE'] > 0]"
   ]
  },
  {
   "cell_type": "markdown",
   "metadata": {},
   "source": [
    "### Portfolio with country of risk"
   ]
  },
  {
   "cell_type": "code",
   "execution_count": 16,
   "metadata": {},
   "outputs": [],
   "source": [
    "data = merge_country(final_data_co_info,country_risk_data,mapping_country)"
   ]
  },
  {
   "cell_type": "code",
   "execution_count": 17,
   "metadata": {},
   "outputs": [],
   "source": [
    "df = clean_country(data)"
   ]
  },
  {
   "cell_type": "markdown",
   "metadata": {},
   "source": [
    "### Classifying dates into quarters"
   ]
  },
  {
   "cell_type": "code",
   "execution_count": 18,
   "metadata": {},
   "outputs": [
    {
     "data": {
      "text/html": [
       "<div>\n",
       "<style scoped>\n",
       "    .dataframe tbody tr th:only-of-type {\n",
       "        vertical-align: middle;\n",
       "    }\n",
       "\n",
       "    .dataframe tbody tr th {\n",
       "        vertical-align: top;\n",
       "    }\n",
       "\n",
       "    .dataframe thead th {\n",
       "        text-align: right;\n",
       "    }\n",
       "</style>\n",
       "<table border=\"1\" class=\"dataframe\">\n",
       "  <thead>\n",
       "    <tr style=\"text-align: right;\">\n",
       "      <th></th>\n",
       "      <th>NCB</th>\n",
       "      <th>ISIN_CODE</th>\n",
       "      <th>ISSUER_NAME</th>\n",
       "      <th>MATURITY_DATE</th>\n",
       "      <th>COUPON_RATE</th>\n",
       "      <th>PUBLISHED_DATE</th>\n",
       "      <th>YEAR</th>\n",
       "      <th>MONTH</th>\n",
       "      <th>TOTAL__REVENUE</th>\n",
       "      <th>SIC_CODE</th>\n",
       "      <th>NACE_CODE</th>\n",
       "      <th>ECONOMIC_SECTOR</th>\n",
       "      <th>COUNTRY_OF_RISK</th>\n",
       "      <th>QUARTER</th>\n",
       "    </tr>\n",
       "  </thead>\n",
       "  <tbody>\n",
       "    <tr>\n",
       "      <th>0</th>\n",
       "      <td>BE</td>\n",
       "      <td>BE0002178441</td>\n",
       "      <td>Delhaize Group S.A.</td>\n",
       "      <td>19/10/2018</td>\n",
       "      <td>4.25</td>\n",
       "      <td>2018-06-08</td>\n",
       "      <td>2018</td>\n",
       "      <td>6</td>\n",
       "      <td>71057.21</td>\n",
       "      <td>5411</td>\n",
       "      <td>G</td>\n",
       "      <td>Beverages</td>\n",
       "      <td>Belgium</td>\n",
       "      <td>2018Q2</td>\n",
       "    </tr>\n",
       "    <tr>\n",
       "      <th>1</th>\n",
       "      <td>BE</td>\n",
       "      <td>BE0002189554</td>\n",
       "      <td>Delhaize Group S.A.</td>\n",
       "      <td>27/02/2020</td>\n",
       "      <td>3.125</td>\n",
       "      <td>2018-06-08</td>\n",
       "      <td>2018</td>\n",
       "      <td>6</td>\n",
       "      <td>71057.21</td>\n",
       "      <td>5411</td>\n",
       "      <td>G</td>\n",
       "      <td>Beverages</td>\n",
       "      <td>Belgium</td>\n",
       "      <td>2018Q2</td>\n",
       "    </tr>\n",
       "    <tr>\n",
       "      <th>2</th>\n",
       "      <td>BE</td>\n",
       "      <td>BE0002256254</td>\n",
       "      <td>RESA SA</td>\n",
       "      <td>22/07/2026</td>\n",
       "      <td>1</td>\n",
       "      <td>2018-06-08</td>\n",
       "      <td>2018</td>\n",
       "      <td>6</td>\n",
       "      <td>393.06</td>\n",
       "      <td>4931</td>\n",
       "      <td>D</td>\n",
       "      <td>Utilities</td>\n",
       "      <td>Belgium</td>\n",
       "      <td>2018Q2</td>\n",
       "    </tr>\n",
       "    <tr>\n",
       "      <th>3</th>\n",
       "      <td>BE</td>\n",
       "      <td>BE0002269380</td>\n",
       "      <td>Cofinimmo S.A./N.V.</td>\n",
       "      <td>09/12/2024</td>\n",
       "      <td>2</td>\n",
       "      <td>2018-06-08</td>\n",
       "      <td>2018</td>\n",
       "      <td>6</td>\n",
       "      <td>297.38</td>\n",
       "      <td>6531</td>\n",
       "      <td>L</td>\n",
       "      <td>Real estate</td>\n",
       "      <td>Belgium</td>\n",
       "      <td>2018Q2</td>\n",
       "    </tr>\n",
       "    <tr>\n",
       "      <th>4</th>\n",
       "      <td>BE</td>\n",
       "      <td>BE0002276450</td>\n",
       "      <td>Elia System Operator S.A./N.V.</td>\n",
       "      <td>07/04/2027</td>\n",
       "      <td>1.375</td>\n",
       "      <td>2018-06-08</td>\n",
       "      <td>2018</td>\n",
       "      <td>6</td>\n",
       "      <td>913.16</td>\n",
       "      <td>4911</td>\n",
       "      <td>D</td>\n",
       "      <td>Utilities</td>\n",
       "      <td>Belgium</td>\n",
       "      <td>2018Q2</td>\n",
       "    </tr>\n",
       "  </tbody>\n",
       "</table>\n",
       "</div>"
      ],
      "text/plain": [
       "  NCB     ISIN_CODE                     ISSUER_NAME MATURITY_DATE COUPON_RATE  \\\n",
       "0  BE  BE0002178441             Delhaize Group S.A.    19/10/2018        4.25   \n",
       "1  BE  BE0002189554             Delhaize Group S.A.    27/02/2020       3.125   \n",
       "2  BE  BE0002256254                         RESA SA    22/07/2026           1   \n",
       "3  BE  BE0002269380             Cofinimmo S.A./N.V.    09/12/2024           2   \n",
       "4  BE  BE0002276450  Elia System Operator S.A./N.V.    07/04/2027       1.375   \n",
       "\n",
       "  PUBLISHED_DATE  YEAR  MONTH  TOTAL__REVENUE  SIC_CODE NACE_CODE  \\\n",
       "0     2018-06-08  2018      6        71057.21      5411         G   \n",
       "1     2018-06-08  2018      6        71057.21      5411         G   \n",
       "2     2018-06-08  2018      6          393.06      4931         D   \n",
       "3     2018-06-08  2018      6          297.38      6531         L   \n",
       "4     2018-06-08  2018      6          913.16      4911         D   \n",
       "\n",
       "  ECONOMIC_SECTOR COUNTRY_OF_RISK QUARTER  \n",
       "0       Beverages         Belgium  2018Q2  \n",
       "1       Beverages         Belgium  2018Q2  \n",
       "2       Utilities         Belgium  2018Q2  \n",
       "3     Real estate         Belgium  2018Q2  \n",
       "4       Utilities         Belgium  2018Q2  "
      ]
     },
     "execution_count": 18,
     "metadata": {},
     "output_type": "execute_result"
    }
   ],
   "source": [
    "data = df.copy()\n",
    "data['QUARTER'] = df['PUBLISHED_DATE'].dt.to_period('Q')\n",
    "data.head()"
   ]
  },
  {
   "cell_type": "markdown",
   "metadata": {},
   "source": [
    "### Download file"
   ]
  },
  {
   "cell_type": "code",
   "execution_count": 19,
   "metadata": {},
   "outputs": [],
   "source": [
    "data.to_excel(directory[:-7] + \"2. Data/ECB Portfolio - Company Information.xlsx\",index=None)"
   ]
  }
 ],
 "metadata": {
  "kernelspec": {
   "display_name": "Python 3",
   "language": "python",
   "name": "python3"
  },
  "language_info": {
   "codemirror_mode": {
    "name": "ipython",
    "version": 3
   },
   "file_extension": ".py",
   "mimetype": "text/x-python",
   "name": "python",
   "nbconvert_exporter": "python",
   "pygments_lexer": "ipython3",
   "version": "3.8.5"
  }
 },
 "nbformat": 4,
 "nbformat_minor": 4
}
