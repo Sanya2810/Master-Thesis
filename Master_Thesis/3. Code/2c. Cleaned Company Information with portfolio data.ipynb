{
 "cells": [
  {
   "cell_type": "markdown",
   "metadata": {},
   "source": [
    "## Company Information with portfolio data (cleaning)"
   ]
  },
  {
   "cell_type": "markdown",
   "metadata": {},
   "source": [
    "<p>The list of securities published by the ECB had few issues. The same ISIN code had different issuer names that was checked and corrected in our data.  </p>\n",
    "<p>The company information data was collected from different sources, so there were few discripancies in the data. For instance, same company names had different industry classification and different revenue. This information was checked manually from Orbis database and corrected in our data. </p>"
   ]
  },
  {
   "cell_type": "markdown",
   "metadata": {},
   "source": [
    "### Libraries to import"
   ]
  },
  {
   "cell_type": "code",
   "execution_count": 1,
   "metadata": {},
   "outputs": [],
   "source": [
    "import pandas as pd\n",
    "import numpy as np\n",
    "import os\n",
    "from functions_file_2 import clean_issuer_info"
   ]
  },
  {
   "cell_type": "code",
   "execution_count": 2,
   "metadata": {},
   "outputs": [],
   "source": [
    "directory = os.getcwd()\n",
    "path = directory[:-7] + \"2. Data/\""
   ]
  },
  {
   "cell_type": "markdown",
   "metadata": {},
   "source": [
    "### Import datasets"
   ]
  },
  {
   "cell_type": "code",
   "execution_count": 3,
   "metadata": {},
   "outputs": [],
   "source": [
    "file = pd.read_excel(path + \"ECB Portfolio - Company Information.xlsx\")"
   ]
  },
  {
   "cell_type": "code",
   "execution_count": 4,
   "metadata": {},
   "outputs": [],
   "source": [
    "# correct informaation datasets\n",
    "correct_issuer_name = pd.read_excel(path + \"2. Company Information Data/3. Mapping/Mapping.xlsx\",sheet_name = \"Correct Issuer Name\",skiprows=4)\n",
    "correct_nace = pd.read_excel(path + \"2. Company Information Data/3. Mapping/Mapping.xlsx\",sheet_name = \"Correct NACE Code\",skiprows=4)\n",
    "correct_revenue = pd.read_excel(path + \"2. Company Information Data/3. Mapping/Mapping.xlsx\",sheet_name = \"Correct Revenue \",skiprows=4)\n"
   ]
  },
  {
   "cell_type": "markdown",
   "metadata": {},
   "source": [
    "### Map datasets with the correct information"
   ]
  },
  {
   "cell_type": "markdown",
   "metadata": {},
   "source": [
    "#### Issuer Name"
   ]
  },
  {
   "cell_type": "code",
   "execution_count": 5,
   "metadata": {},
   "outputs": [],
   "source": [
    "# merge with correct issuer name file\n",
    "df = file.merge(correct_issuer_name,left_on =\"ISSUER_NAME\",right_on = \"Actual name\", how = \"left\").drop(['Actual name'],axis=1)\n"
   ]
  },
  {
   "cell_type": "code",
   "execution_count": 6,
   "metadata": {},
   "outputs": [],
   "source": [
    "df['ISSUER_NAME'] = np.where(df['Correct mapping'].isna(),df['ISSUER_NAME'],df['Correct mapping'])\n",
    "dataset = df.drop(['Correct mapping'],axis = 1)"
   ]
  },
  {
   "cell_type": "code",
   "execution_count": 7,
   "metadata": {},
   "outputs": [],
   "source": [
    "df = clean_issuer_info(dataset)"
   ]
  },
  {
   "cell_type": "markdown",
   "metadata": {},
   "source": [
    "#### Industry classification"
   ]
  },
  {
   "cell_type": "code",
   "execution_count": 8,
   "metadata": {},
   "outputs": [],
   "source": [
    "df2 = df.merge(correct_nace,on = \"ISSUER_NAME\",how = \"left\")"
   ]
  },
  {
   "cell_type": "code",
   "execution_count": 9,
   "metadata": {},
   "outputs": [],
   "source": [
    "df2['SIC_CODE'] = np.where(df2['SIC '].isna(),df2['SIC_CODE'],df2['SIC '])\n",
    "df2['NACE_CODE'] = np.where(df2['NACE'].isna(),df2['NACE_CODE'],df2['NACE'])\n",
    "df2['ECONOMIC_SECTOR'] = np.where(df2['ECONOMIC SECTOR'].isna(),df2['ECONOMIC_SECTOR'],df2['ECONOMIC SECTOR'])"
   ]
  },
  {
   "cell_type": "code",
   "execution_count": 10,
   "metadata": {},
   "outputs": [],
   "source": [
    "columns_to_drop = ['SIC ','NACE','ECONOMIC SECTOR']\n",
    "df2 = df2.drop(columns_to_drop,axis = 1)"
   ]
  },
  {
   "cell_type": "markdown",
   "metadata": {},
   "source": [
    "#### Revenue"
   ]
  },
  {
   "cell_type": "code",
   "execution_count": 11,
   "metadata": {},
   "outputs": [],
   "source": [
    "df3 = df2.merge(correct_revenue,on='ISSUER_NAME',how =\"left\")\n",
    "df3['TOTAL__REVENUE'] = np.where(df3['REVENUE'].isna(),df3['TOTAL__REVENUE'],df3['REVENUE'])\n",
    "final_data = df3.drop('REVENUE',axis = 1)"
   ]
  },
  {
   "cell_type": "code",
   "execution_count": 12,
   "metadata": {},
   "outputs": [
    {
     "data": {
      "text/html": [
       "<div>\n",
       "<style scoped>\n",
       "    .dataframe tbody tr th:only-of-type {\n",
       "        vertical-align: middle;\n",
       "    }\n",
       "\n",
       "    .dataframe tbody tr th {\n",
       "        vertical-align: top;\n",
       "    }\n",
       "\n",
       "    .dataframe thead th {\n",
       "        text-align: right;\n",
       "    }\n",
       "</style>\n",
       "<table border=\"1\" class=\"dataframe\">\n",
       "  <thead>\n",
       "    <tr style=\"text-align: right;\">\n",
       "      <th></th>\n",
       "      <th>NCB</th>\n",
       "      <th>ISIN_CODE</th>\n",
       "      <th>ISSUER_NAME</th>\n",
       "      <th>MATURITY_DATE</th>\n",
       "      <th>COUPON_RATE</th>\n",
       "      <th>PUBLISHED_DATE</th>\n",
       "      <th>YEAR</th>\n",
       "      <th>MONTH</th>\n",
       "      <th>TOTAL__REVENUE</th>\n",
       "      <th>SIC_CODE</th>\n",
       "      <th>NACE_CODE</th>\n",
       "      <th>ECONOMIC_SECTOR</th>\n",
       "      <th>COUNTRY_OF_RISK</th>\n",
       "      <th>QUARTER</th>\n",
       "    </tr>\n",
       "  </thead>\n",
       "  <tbody>\n",
       "    <tr>\n",
       "      <th>0</th>\n",
       "      <td>BE</td>\n",
       "      <td>BE0002178441</td>\n",
       "      <td>Delhaize Group S.A.</td>\n",
       "      <td>19/10/2018</td>\n",
       "      <td>4.25</td>\n",
       "      <td>2018-06-08</td>\n",
       "      <td>2018</td>\n",
       "      <td>6</td>\n",
       "      <td>71057.21</td>\n",
       "      <td>5411.0</td>\n",
       "      <td>G</td>\n",
       "      <td>Beverages</td>\n",
       "      <td>Belgium</td>\n",
       "      <td>2018Q2</td>\n",
       "    </tr>\n",
       "    <tr>\n",
       "      <th>1</th>\n",
       "      <td>BE</td>\n",
       "      <td>BE0002189554</td>\n",
       "      <td>Delhaize Group S.A.</td>\n",
       "      <td>27/02/2020</td>\n",
       "      <td>3.125</td>\n",
       "      <td>2018-06-08</td>\n",
       "      <td>2018</td>\n",
       "      <td>6</td>\n",
       "      <td>71057.21</td>\n",
       "      <td>5411.0</td>\n",
       "      <td>G</td>\n",
       "      <td>Beverages</td>\n",
       "      <td>Belgium</td>\n",
       "      <td>2018Q2</td>\n",
       "    </tr>\n",
       "    <tr>\n",
       "      <th>2</th>\n",
       "      <td>BE</td>\n",
       "      <td>BE0002256254</td>\n",
       "      <td>RESA SA</td>\n",
       "      <td>22/07/2026</td>\n",
       "      <td>1</td>\n",
       "      <td>2018-06-08</td>\n",
       "      <td>2018</td>\n",
       "      <td>6</td>\n",
       "      <td>393.06</td>\n",
       "      <td>4931.0</td>\n",
       "      <td>D</td>\n",
       "      <td>Utilities</td>\n",
       "      <td>Belgium</td>\n",
       "      <td>2018Q2</td>\n",
       "    </tr>\n",
       "    <tr>\n",
       "      <th>3</th>\n",
       "      <td>BE</td>\n",
       "      <td>BE0002269380</td>\n",
       "      <td>Cofinimmo S.A./N.V.</td>\n",
       "      <td>09/12/2024</td>\n",
       "      <td>2</td>\n",
       "      <td>2018-06-08</td>\n",
       "      <td>2018</td>\n",
       "      <td>6</td>\n",
       "      <td>297.38</td>\n",
       "      <td>6531.0</td>\n",
       "      <td>L</td>\n",
       "      <td>Real estate</td>\n",
       "      <td>Belgium</td>\n",
       "      <td>2018Q2</td>\n",
       "    </tr>\n",
       "    <tr>\n",
       "      <th>4</th>\n",
       "      <td>BE</td>\n",
       "      <td>BE0002276450</td>\n",
       "      <td>Elia Transmission Belgium</td>\n",
       "      <td>07/04/2027</td>\n",
       "      <td>1.375</td>\n",
       "      <td>2018-06-08</td>\n",
       "      <td>2018</td>\n",
       "      <td>6</td>\n",
       "      <td>913.16</td>\n",
       "      <td>4911.0</td>\n",
       "      <td>D</td>\n",
       "      <td>Utilities</td>\n",
       "      <td>Belgium</td>\n",
       "      <td>2018Q2</td>\n",
       "    </tr>\n",
       "  </tbody>\n",
       "</table>\n",
       "</div>"
      ],
      "text/plain": [
       "  NCB     ISIN_CODE                ISSUER_NAME MATURITY_DATE COUPON_RATE  \\\n",
       "0  BE  BE0002178441        Delhaize Group S.A.    19/10/2018        4.25   \n",
       "1  BE  BE0002189554        Delhaize Group S.A.    27/02/2020       3.125   \n",
       "2  BE  BE0002256254                    RESA SA    22/07/2026           1   \n",
       "3  BE  BE0002269380        Cofinimmo S.A./N.V.    09/12/2024           2   \n",
       "4  BE  BE0002276450  Elia Transmission Belgium    07/04/2027       1.375   \n",
       "\n",
       "  PUBLISHED_DATE  YEAR  MONTH  TOTAL__REVENUE  SIC_CODE NACE_CODE  \\\n",
       "0     2018-06-08  2018      6        71057.21    5411.0         G   \n",
       "1     2018-06-08  2018      6        71057.21    5411.0         G   \n",
       "2     2018-06-08  2018      6          393.06    4931.0         D   \n",
       "3     2018-06-08  2018      6          297.38    6531.0         L   \n",
       "4     2018-06-08  2018      6          913.16    4911.0         D   \n",
       "\n",
       "  ECONOMIC_SECTOR COUNTRY_OF_RISK QUARTER  \n",
       "0       Beverages         Belgium  2018Q2  \n",
       "1       Beverages         Belgium  2018Q2  \n",
       "2       Utilities         Belgium  2018Q2  \n",
       "3     Real estate         Belgium  2018Q2  \n",
       "4       Utilities         Belgium  2018Q2  "
      ]
     },
     "execution_count": 12,
     "metadata": {},
     "output_type": "execute_result"
    }
   ],
   "source": [
    "final_data.head()"
   ]
  },
  {
   "cell_type": "markdown",
   "metadata": {},
   "source": [
    "### Download file"
   ]
  },
  {
   "cell_type": "code",
   "execution_count": 13,
   "metadata": {},
   "outputs": [],
   "source": [
    "final_data.to_excel(path + \"ECB Portfolio - Company Information.xlsx\",index=None)"
   ]
  }
 ],
 "metadata": {
  "kernelspec": {
   "display_name": "Python 3 (ipykernel)",
   "language": "python",
   "name": "python3"
  },
  "language_info": {
   "codemirror_mode": {
    "name": "ipython",
    "version": 3
   },
   "file_extension": ".py",
   "mimetype": "text/x-python",
   "name": "python",
   "nbconvert_exporter": "python",
   "pygments_lexer": "ipython3",
   "version": "3.8.13"
  }
 },
 "nbformat": 4,
 "nbformat_minor": 4
}
