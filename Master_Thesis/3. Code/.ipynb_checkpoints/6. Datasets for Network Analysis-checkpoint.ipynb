{
 "cells": [
  {
   "cell_type": "markdown",
   "metadata": {},
   "source": [
    "## Datasets used for creating a network"
   ]
  },
  {
   "cell_type": "markdown",
   "metadata": {},
   "source": [
    "<p>Four datasets are created:\n",
    "      a) Relationship data: ECB buys bonds;\n",
    "      b) Company nodes data: consists unique names of companies along with industry classification;\n",
    "      c) Sector nodes data: consists unique sector names;\n",
    "      d) Country of risk nodes data: consists unique names of country of risk.</p>"
   ]
  },
  {
   "cell_type": "markdown",
   "metadata": {},
   "source": [
    "### Libraries to import"
   ]
  },
  {
   "cell_type": "code",
   "execution_count": 1,
   "metadata": {},
   "outputs": [],
   "source": [
    "import pandas as pd\n",
    "import os"
   ]
  },
  {
   "cell_type": "code",
   "execution_count": 2,
   "metadata": {},
   "outputs": [],
   "source": [
    "directory = os.getcwd()\n",
    "path = directory[:-7] + '2. Data/5. Network Analysis - Data/Data/'"
   ]
  },
  {
   "cell_type": "markdown",
   "metadata": {},
   "source": [
    "### Import dataset"
   ]
  },
  {
   "cell_type": "code",
   "execution_count": 3,
   "metadata": {},
   "outputs": [],
   "source": [
    "portfolio = pd.read_excel(path + 'ECB Portfolio - Company Information.xlsx')"
   ]
  },
  {
   "cell_type": "markdown",
   "metadata": {},
   "source": [
    "### a) Relationship data"
   ]
  },
  {
   "cell_type": "code",
   "execution_count": 4,
   "metadata": {},
   "outputs": [],
   "source": [
    "# functions\n",
    "def create_relations(data):\n",
    "    df = data[['ISIN_CODE','QUARTER','ISSUER_NAME']]\n",
    "    rel = df.groupby(['ISIN_CODE','QUARTER'])['ISSUER_NAME'].count()\n",
    "    rel = rel.reset_index()\n",
    "    rel['from'] = 'ECB'\n",
    "    rel['type'] = 'Buys'\n",
    "    rel = rel.rename(columns = {'ISSUER_NAME':'number_of_issues'})\n",
    "    return rel\n",
    "\n",
    "def clean_data(file):\n",
    "    columns_to_keep = ['ISIN_CODE','ISSUER_NAME']\n",
    "    company_name = file[columns_to_keep].drop_duplicates()\n",
    "    company_name['ISSUER_NAME']=company_name['ISSUER_NAME'].astype(str)\n",
    "    df = company_name.groupby('ISIN_CODE')['ISSUER_NAME'].apply(';'.join).reset_index()\n",
    "    df[['ISSUER_NAME_1','ISSUER_NAME_2']]= df['ISSUER_NAME'].str.split(';', expand=True)\n",
    "    df = df.drop(columns = 'ISSUER_NAME',axis = 1)\n",
    "    df = df.fillna('-')\n",
    "    df2 = file[['ISIN_CODE','SECTOR','NACE_CODE','COUNTRY_OF_RISK','COUPON_RATE','MATURITY_DATE']].drop_duplicates()\n",
    "    isin_info =df.merge(df2,on='ISIN_CODE',how='left').drop_duplicates(subset = df.columns)\n",
    "    return isin_info\n",
    "    "
   ]
  },
  {
   "cell_type": "code",
   "execution_count": 5,
   "metadata": {},
   "outputs": [],
   "source": [
    "relation = create_relations(portfolio)\n",
    "isin_info_data = clean_data(portfolio)"
   ]
  },
  {
   "cell_type": "code",
   "execution_count": 6,
   "metadata": {},
   "outputs": [],
   "source": [
    "relationship_data = relation.merge(isin_info_data,on ='ISIN_CODE',how = \"left\").drop_duplicates()"
   ]
  },
  {
   "cell_type": "code",
   "execution_count": 7,
   "metadata": {},
   "outputs": [
    {
     "data": {
      "text/html": [
       "<div>\n",
       "<style scoped>\n",
       "    .dataframe tbody tr th:only-of-type {\n",
       "        vertical-align: middle;\n",
       "    }\n",
       "\n",
       "    .dataframe tbody tr th {\n",
       "        vertical-align: top;\n",
       "    }\n",
       "\n",
       "    .dataframe thead th {\n",
       "        text-align: right;\n",
       "    }\n",
       "</style>\n",
       "<table border=\"1\" class=\"dataframe\">\n",
       "  <thead>\n",
       "    <tr style=\"text-align: right;\">\n",
       "      <th></th>\n",
       "      <th>ISIN_CODE</th>\n",
       "      <th>QUARTER</th>\n",
       "      <th>number_of_issues</th>\n",
       "      <th>from</th>\n",
       "      <th>type</th>\n",
       "      <th>ISSUER_NAME_1</th>\n",
       "      <th>ISSUER_NAME_2</th>\n",
       "      <th>SECTOR</th>\n",
       "      <th>NACE_CODE</th>\n",
       "      <th>COUNTRY_OF_RISK</th>\n",
       "      <th>COUPON_RATE</th>\n",
       "      <th>MATURITY_DATE</th>\n",
       "    </tr>\n",
       "  </thead>\n",
       "  <tbody>\n",
       "    <tr>\n",
       "      <th>0</th>\n",
       "      <td>AT0000A0KSM6</td>\n",
       "      <td>2017Q2</td>\n",
       "      <td>2</td>\n",
       "      <td>ECB</td>\n",
       "      <td>Buys</td>\n",
       "      <td>NOVOMATIC AG</td>\n",
       "      <td>-</td>\n",
       "      <td>Financial And Insurance Activities</td>\n",
       "      <td>K</td>\n",
       "      <td>Austria</td>\n",
       "      <td>5</td>\n",
       "      <td>27/10/2017</td>\n",
       "    </tr>\n",
       "    <tr>\n",
       "      <th>1</th>\n",
       "      <td>AT0000A0KSM6</td>\n",
       "      <td>2017Q3</td>\n",
       "      <td>13</td>\n",
       "      <td>ECB</td>\n",
       "      <td>Buys</td>\n",
       "      <td>NOVOMATIC AG</td>\n",
       "      <td>-</td>\n",
       "      <td>Financial And Insurance Activities</td>\n",
       "      <td>K</td>\n",
       "      <td>Austria</td>\n",
       "      <td>5</td>\n",
       "      <td>27/10/2017</td>\n",
       "    </tr>\n",
       "    <tr>\n",
       "      <th>2</th>\n",
       "      <td>AT0000A0KSM6</td>\n",
       "      <td>2017Q4</td>\n",
       "      <td>3</td>\n",
       "      <td>ECB</td>\n",
       "      <td>Buys</td>\n",
       "      <td>NOVOMATIC AG</td>\n",
       "      <td>-</td>\n",
       "      <td>Financial And Insurance Activities</td>\n",
       "      <td>K</td>\n",
       "      <td>Austria</td>\n",
       "      <td>5</td>\n",
       "      <td>27/10/2017</td>\n",
       "    </tr>\n",
       "    <tr>\n",
       "      <th>3</th>\n",
       "      <td>AT0000A0PHV9</td>\n",
       "      <td>2017Q2</td>\n",
       "      <td>2</td>\n",
       "      <td>ECB</td>\n",
       "      <td>Buys</td>\n",
       "      <td>STRABAG SE</td>\n",
       "      <td>-</td>\n",
       "      <td>Construction</td>\n",
       "      <td>F</td>\n",
       "      <td>Austria</td>\n",
       "      <td>4.75</td>\n",
       "      <td>25/05/2018</td>\n",
       "    </tr>\n",
       "    <tr>\n",
       "      <th>4</th>\n",
       "      <td>AT0000A0PHV9</td>\n",
       "      <td>2017Q3</td>\n",
       "      <td>13</td>\n",
       "      <td>ECB</td>\n",
       "      <td>Buys</td>\n",
       "      <td>STRABAG SE</td>\n",
       "      <td>-</td>\n",
       "      <td>Construction</td>\n",
       "      <td>F</td>\n",
       "      <td>Austria</td>\n",
       "      <td>4.75</td>\n",
       "      <td>25/05/2018</td>\n",
       "    </tr>\n",
       "  </tbody>\n",
       "</table>\n",
       "</div>"
      ],
      "text/plain": [
       "      ISIN_CODE QUARTER  number_of_issues from  type ISSUER_NAME_1  \\\n",
       "0  AT0000A0KSM6  2017Q2                 2  ECB  Buys  NOVOMATIC AG   \n",
       "1  AT0000A0KSM6  2017Q3                13  ECB  Buys  NOVOMATIC AG   \n",
       "2  AT0000A0KSM6  2017Q4                 3  ECB  Buys  NOVOMATIC AG   \n",
       "3  AT0000A0PHV9  2017Q2                 2  ECB  Buys    STRABAG SE   \n",
       "4  AT0000A0PHV9  2017Q3                13  ECB  Buys    STRABAG SE   \n",
       "\n",
       "  ISSUER_NAME_2                              SECTOR NACE_CODE COUNTRY_OF_RISK  \\\n",
       "0             -  Financial And Insurance Activities         K         Austria   \n",
       "1             -  Financial And Insurance Activities         K         Austria   \n",
       "2             -  Financial And Insurance Activities         K         Austria   \n",
       "3             -                        Construction         F         Austria   \n",
       "4             -                        Construction         F         Austria   \n",
       "\n",
       "  COUPON_RATE MATURITY_DATE  \n",
       "0           5    27/10/2017  \n",
       "1           5    27/10/2017  \n",
       "2           5    27/10/2017  \n",
       "3        4.75    25/05/2018  \n",
       "4        4.75    25/05/2018  "
      ]
     },
     "execution_count": 7,
     "metadata": {},
     "output_type": "execute_result"
    }
   ],
   "source": [
    "relationship_data.head()"
   ]
  },
  {
   "cell_type": "markdown",
   "metadata": {},
   "source": [
    "### b) Company nodes data"
   ]
  },
  {
   "cell_type": "code",
   "execution_count": 8,
   "metadata": {},
   "outputs": [
    {
     "data": {
      "text/html": [
       "<div>\n",
       "<style scoped>\n",
       "    .dataframe tbody tr th:only-of-type {\n",
       "        vertical-align: middle;\n",
       "    }\n",
       "\n",
       "    .dataframe tbody tr th {\n",
       "        vertical-align: top;\n",
       "    }\n",
       "\n",
       "    .dataframe thead th {\n",
       "        text-align: right;\n",
       "    }\n",
       "</style>\n",
       "<table border=\"1\" class=\"dataframe\">\n",
       "  <thead>\n",
       "    <tr style=\"text-align: right;\">\n",
       "      <th></th>\n",
       "      <th>ISSUER_NAME</th>\n",
       "      <th>NACE_CODE</th>\n",
       "      <th>SECTOR</th>\n",
       "      <th>COUNTRY_OF_RISK</th>\n",
       "    </tr>\n",
       "  </thead>\n",
       "  <tbody>\n",
       "    <tr>\n",
       "      <th>0</th>\n",
       "      <td>Delhaize Group S.A.</td>\n",
       "      <td>G</td>\n",
       "      <td>Wholesale And Retail Trade; Repair Of Motor Ve...</td>\n",
       "      <td>Belgium</td>\n",
       "    </tr>\n",
       "    <tr>\n",
       "      <th>2</th>\n",
       "      <td>RESA SA</td>\n",
       "      <td>D</td>\n",
       "      <td>Electricity, Gas, Steam And Air Conditioning S...</td>\n",
       "      <td>Belgium</td>\n",
       "    </tr>\n",
       "    <tr>\n",
       "      <th>3</th>\n",
       "      <td>Cofinimmo S.A./N.V.</td>\n",
       "      <td>L</td>\n",
       "      <td>Real Estate Activities</td>\n",
       "      <td>Belgium</td>\n",
       "    </tr>\n",
       "    <tr>\n",
       "      <th>4</th>\n",
       "      <td>Elia Transmission Belgium</td>\n",
       "      <td>D</td>\n",
       "      <td>Electricity, Gas, Steam And Air Conditioning S...</td>\n",
       "      <td>Belgium</td>\n",
       "    </tr>\n",
       "    <tr>\n",
       "      <th>5</th>\n",
       "      <td>Fluvius System Operator CVBA</td>\n",
       "      <td>D</td>\n",
       "      <td>Electricity, Gas, Steam And Air Conditioning S...</td>\n",
       "      <td>Belgium</td>\n",
       "    </tr>\n",
       "  </tbody>\n",
       "</table>\n",
       "</div>"
      ],
      "text/plain": [
       "                    ISSUER_NAME NACE_CODE  \\\n",
       "0           Delhaize Group S.A.         G   \n",
       "2                       RESA SA         D   \n",
       "3           Cofinimmo S.A./N.V.         L   \n",
       "4     Elia Transmission Belgium         D   \n",
       "5  Fluvius System Operator CVBA         D   \n",
       "\n",
       "                                              SECTOR COUNTRY_OF_RISK  \n",
       "0  Wholesale And Retail Trade; Repair Of Motor Ve...         Belgium  \n",
       "2  Electricity, Gas, Steam And Air Conditioning S...         Belgium  \n",
       "3                             Real Estate Activities         Belgium  \n",
       "4  Electricity, Gas, Steam And Air Conditioning S...         Belgium  \n",
       "5  Electricity, Gas, Steam And Air Conditioning S...         Belgium  "
      ]
     },
     "execution_count": 8,
     "metadata": {},
     "output_type": "execute_result"
    }
   ],
   "source": [
    "columns = ['ISSUER_NAME','NACE_CODE','SECTOR','COUNTRY_OF_RISK']\n",
    "company = portfolio[columns]\n",
    "company = company.drop_duplicates(subset = columns)\n",
    "company.head()"
   ]
  },
  {
   "cell_type": "markdown",
   "metadata": {},
   "source": [
    "### c) Sector nodes data"
   ]
  },
  {
   "cell_type": "code",
   "execution_count": 9,
   "metadata": {},
   "outputs": [
    {
     "data": {
      "text/html": [
       "<div>\n",
       "<style scoped>\n",
       "    .dataframe tbody tr th:only-of-type {\n",
       "        vertical-align: middle;\n",
       "    }\n",
       "\n",
       "    .dataframe tbody tr th {\n",
       "        vertical-align: top;\n",
       "    }\n",
       "\n",
       "    .dataframe thead th {\n",
       "        text-align: right;\n",
       "    }\n",
       "</style>\n",
       "<table border=\"1\" class=\"dataframe\">\n",
       "  <thead>\n",
       "    <tr style=\"text-align: right;\">\n",
       "      <th></th>\n",
       "      <th>NACE_CODE</th>\n",
       "      <th>SECTOR</th>\n",
       "    </tr>\n",
       "  </thead>\n",
       "  <tbody>\n",
       "    <tr>\n",
       "      <th>0</th>\n",
       "      <td>G</td>\n",
       "      <td>Wholesale And Retail Trade; Repair Of Motor Ve...</td>\n",
       "    </tr>\n",
       "    <tr>\n",
       "      <th>2</th>\n",
       "      <td>D</td>\n",
       "      <td>Electricity, Gas, Steam And Air Conditioning S...</td>\n",
       "    </tr>\n",
       "    <tr>\n",
       "      <th>3</th>\n",
       "      <td>L</td>\n",
       "      <td>Real Estate Activities</td>\n",
       "    </tr>\n",
       "    <tr>\n",
       "      <th>15</th>\n",
       "      <td>K</td>\n",
       "      <td>Financial And Insurance Activities</td>\n",
       "    </tr>\n",
       "    <tr>\n",
       "      <th>17</th>\n",
       "      <td>C</td>\n",
       "      <td>Manufacturing</td>\n",
       "    </tr>\n",
       "  </tbody>\n",
       "</table>\n",
       "</div>"
      ],
      "text/plain": [
       "   NACE_CODE                                             SECTOR\n",
       "0          G  Wholesale And Retail Trade; Repair Of Motor Ve...\n",
       "2          D  Electricity, Gas, Steam And Air Conditioning S...\n",
       "3          L                             Real Estate Activities\n",
       "15         K                 Financial And Insurance Activities\n",
       "17         C                                      Manufacturing"
      ]
     },
     "execution_count": 9,
     "metadata": {},
     "output_type": "execute_result"
    }
   ],
   "source": [
    "columns = ['NACE_CODE','SECTOR']\n",
    "sector = portfolio[columns]\n",
    "sector = sector.drop_duplicates(subset = columns)\n",
    "sector.head()"
   ]
  },
  {
   "cell_type": "markdown",
   "metadata": {},
   "source": [
    "### d) Country of risk nodes data"
   ]
  },
  {
   "cell_type": "code",
   "execution_count": 10,
   "metadata": {},
   "outputs": [
    {
     "data": {
      "text/html": [
       "<div>\n",
       "<style scoped>\n",
       "    .dataframe tbody tr th:only-of-type {\n",
       "        vertical-align: middle;\n",
       "    }\n",
       "\n",
       "    .dataframe tbody tr th {\n",
       "        vertical-align: top;\n",
       "    }\n",
       "\n",
       "    .dataframe thead th {\n",
       "        text-align: right;\n",
       "    }\n",
       "</style>\n",
       "<table border=\"1\" class=\"dataframe\">\n",
       "  <thead>\n",
       "    <tr style=\"text-align: right;\">\n",
       "      <th></th>\n",
       "      <th>COUNTRY_OF_RISK</th>\n",
       "    </tr>\n",
       "  </thead>\n",
       "  <tbody>\n",
       "    <tr>\n",
       "      <th>0</th>\n",
       "      <td>Belgium</td>\n",
       "    </tr>\n",
       "    <tr>\n",
       "      <th>42</th>\n",
       "      <td>Netherlands</td>\n",
       "    </tr>\n",
       "    <tr>\n",
       "      <th>48</th>\n",
       "      <td>Portugal</td>\n",
       "    </tr>\n",
       "    <tr>\n",
       "      <th>56</th>\n",
       "      <td>Luxembourg</td>\n",
       "    </tr>\n",
       "    <tr>\n",
       "      <th>86</th>\n",
       "      <td>Slovakia</td>\n",
       "    </tr>\n",
       "  </tbody>\n",
       "</table>\n",
       "</div>"
      ],
      "text/plain": [
       "   COUNTRY_OF_RISK\n",
       "0          Belgium\n",
       "42     Netherlands\n",
       "48        Portugal\n",
       "56      Luxembourg\n",
       "86        Slovakia"
      ]
     },
     "execution_count": 10,
     "metadata": {},
     "output_type": "execute_result"
    }
   ],
   "source": [
    "country = portfolio[['COUNTRY_OF_RISK']]\n",
    "country = country.drop_duplicates(subset = ['COUNTRY_OF_RISK'])\n",
    "country.head()"
   ]
  },
  {
   "cell_type": "markdown",
   "metadata": {},
   "source": [
    "### Download files"
   ]
  },
  {
   "cell_type": "code",
   "execution_count": 12,
   "metadata": {},
   "outputs": [],
   "source": [
    "relationship_data.to_csv(path + 'relationship_2.csv',index = False)\n",
    "company.to_csv(path + 'company_node.csv',index=False)\n",
    "sector.to_csv(path + 'sector_node.csv',index=False)\n",
    "country.to_csv(path + 'country_node.csv',index=False)"
   ]
  }
 ],
 "metadata": {
  "kernelspec": {
   "display_name": "Python 3 (ipykernel)",
   "language": "python",
   "name": "python3"
  },
  "language_info": {
   "codemirror_mode": {
    "name": "ipython",
    "version": 3
   },
   "file_extension": ".py",
   "mimetype": "text/x-python",
   "name": "python",
   "nbconvert_exporter": "python",
   "pygments_lexer": "ipython3",
   "version": "3.8.13"
  }
 },
 "nbformat": 4,
 "nbformat_minor": 4
}
