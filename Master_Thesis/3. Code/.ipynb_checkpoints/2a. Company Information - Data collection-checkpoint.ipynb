{
 "cells": [
  {
   "cell_type": "markdown",
   "metadata": {},
   "source": [
    "## Company Information Data: Revenue and Industry Classification"
   ]
  },
  {
   "cell_type": "markdown",
   "metadata": {},
   "source": [
    "<p>The revenue and industry classification information is downloaded from S$&$P Capital IQ Pro Platform. However, KU Leuven did not have access to the API of S$&$P, therefore the data had to be downloaded manually. Only 65,000 rows can be extracted from the online Screener at one time, so we had to repeat the step multiple times.</p>"
   ]
  },
  {
   "cell_type": "markdown",
   "metadata": {},
   "source": [
    "### Libraries to import"
   ]
  },
  {
   "cell_type": "code",
   "execution_count": 1,
   "metadata": {},
   "outputs": [],
   "source": [
    "from functions_file_2 import bonds_file, read_file_bonds\n",
    "import os\n",
    "import pandas as pd"
   ]
  },
  {
   "cell_type": "code",
   "execution_count": 2,
   "metadata": {},
   "outputs": [],
   "source": [
    "directory = os.getcwd()\n",
    "# # path for bonds data\n",
    "path = directory[:-7] + \"2. Data/2. Company Information Data/1. Revenue_information - S & P/\"\n",
    "path_2 = directory[:-7] + \"2. Data/2. Company Information Data/2. Industry classification information - S & P/\""
   ]
  },
  {
   "cell_type": "markdown",
   "metadata": {},
   "source": [
    "### Revenue information file"
   ]
  },
  {
   "cell_type": "code",
   "execution_count": 3,
   "metadata": {},
   "outputs": [],
   "source": [
    "# REVENUE DATA (2017)- S&P\n",
    "files_rev = bonds_file(path)\n",
    "\n",
    "data_2 = []\n",
    "for f in files_rev:\n",
    "    data2 = read_file_bonds(f[1],path)\n",
    "    data_2.append(data2)\n",
    "\n",
    "data_2 = pd.concat(data_2)"
   ]
  },
  {
   "cell_type": "code",
   "execution_count": 4,
   "metadata": {},
   "outputs": [
    {
     "data": {
      "text/html": [
       "<div>\n",
       "<style scoped>\n",
       "    .dataframe tbody tr th:only-of-type {\n",
       "        vertical-align: middle;\n",
       "    }\n",
       "\n",
       "    .dataframe tbody tr th {\n",
       "        vertical-align: top;\n",
       "    }\n",
       "\n",
       "    .dataframe thead th {\n",
       "        text-align: right;\n",
       "    }\n",
       "</style>\n",
       "<table border=\"1\" class=\"dataframe\">\n",
       "  <thead>\n",
       "    <tr style=\"text-align: right;\">\n",
       "      <th></th>\n",
       "      <th>ISSUER_NAME</th>\n",
       "      <th>INSTRUMENT_ID</th>\n",
       "      <th>ISIN</th>\n",
       "      <th>AMT_OUTSTANDING</th>\n",
       "      <th>ISSUE_PRICE</th>\n",
       "      <th>ISSUE_AMOUNT</th>\n",
       "      <th>TOTAL_REVENUE</th>\n",
       "      <th>TOTAL_DEBT</th>\n",
       "      <th>TOTAL_PREFERRED_EQUITY</th>\n",
       "      <th>TOTAL_COMMON_EQUITY</th>\n",
       "      <th>TOTAL_MINORITY_INTEREST</th>\n",
       "      <th>MARKET_CAPITALIZATION</th>\n",
       "      <th>MATURITY_DATE</th>\n",
       "    </tr>\n",
       "  </thead>\n",
       "  <tbody>\n",
       "    <tr>\n",
       "      <th>0</th>\n",
       "      <td>3 M Srl</td>\n",
       "      <td>SPS545478483</td>\n",
       "      <td>IT0005315558</td>\n",
       "      <td>5.556790</td>\n",
       "      <td>100.0</td>\n",
       "      <td>5.963029</td>\n",
       "      <td>NaN</td>\n",
       "      <td>NaN</td>\n",
       "      <td>NaN</td>\n",
       "      <td>NaN</td>\n",
       "      <td>NaN</td>\n",
       "      <td>NaN</td>\n",
       "      <td>2022-03-31</td>\n",
       "    </tr>\n",
       "    <tr>\n",
       "      <th>1</th>\n",
       "      <td>3 M Srl</td>\n",
       "      <td>SPS545478508</td>\n",
       "      <td>IT0005315996</td>\n",
       "      <td>16.670371</td>\n",
       "      <td>100.0</td>\n",
       "      <td>17.492711</td>\n",
       "      <td>NaN</td>\n",
       "      <td>NaN</td>\n",
       "      <td>NaN</td>\n",
       "      <td>NaN</td>\n",
       "      <td>NaN</td>\n",
       "      <td>NaN</td>\n",
       "      <td>2022-03-31</td>\n",
       "    </tr>\n",
       "    <tr>\n",
       "      <th>2</th>\n",
       "      <td>4 Madonne Caseificio dell'Emilia Soc Coop Agri...</td>\n",
       "      <td>SPS323723078</td>\n",
       "      <td>IT0005159543</td>\n",
       "      <td>0.000000</td>\n",
       "      <td>100.0</td>\n",
       "      <td>6525.285481</td>\n",
       "      <td>23536.201366</td>\n",
       "      <td>18493.842459</td>\n",
       "      <td>NaN</td>\n",
       "      <td>4018.476225</td>\n",
       "      <td>NaN</td>\n",
       "      <td>NaN</td>\n",
       "      <td>2022-01-27</td>\n",
       "    </tr>\n",
       "    <tr>\n",
       "      <th>3</th>\n",
       "      <td>4 Madonne Caseificio dell'Emilia Soc Coop Agri...</td>\n",
       "      <td>SPS715468429</td>\n",
       "      <td>IT0005446007</td>\n",
       "      <td>1111.358080</td>\n",
       "      <td>100.0</td>\n",
       "      <td>1219.512195</td>\n",
       "      <td>23536.201366</td>\n",
       "      <td>18493.842459</td>\n",
       "      <td>NaN</td>\n",
       "      <td>4018.476225</td>\n",
       "      <td>NaN</td>\n",
       "      <td>NaN</td>\n",
       "      <td>2022-05-27</td>\n",
       "    </tr>\n",
       "    <tr>\n",
       "      <th>4</th>\n",
       "      <td>A.M.A. S.p.A.</td>\n",
       "      <td>SPS290079605</td>\n",
       "      <td>IT0005104945</td>\n",
       "      <td>0.000000</td>\n",
       "      <td>100.0</td>\n",
       "      <td>13683.010262</td>\n",
       "      <td>NaN</td>\n",
       "      <td>NaN</td>\n",
       "      <td>NaN</td>\n",
       "      <td>NaN</td>\n",
       "      <td>NaN</td>\n",
       "      <td>NaN</td>\n",
       "      <td>2022-02-13</td>\n",
       "    </tr>\n",
       "  </tbody>\n",
       "</table>\n",
       "</div>"
      ],
      "text/plain": [
       "                                         ISSUER_NAME INSTRUMENT_ID  \\\n",
       "0                                            3 M Srl  SPS545478483   \n",
       "1                                            3 M Srl  SPS545478508   \n",
       "2  4 Madonne Caseificio dell'Emilia Soc Coop Agri...  SPS323723078   \n",
       "3  4 Madonne Caseificio dell'Emilia Soc Coop Agri...  SPS715468429   \n",
       "4                                      A.M.A. S.p.A.  SPS290079605   \n",
       "\n",
       "           ISIN  AMT_OUTSTANDING  ISSUE_PRICE  ISSUE_AMOUNT  TOTAL_REVENUE  \\\n",
       "0  IT0005315558         5.556790        100.0      5.963029            NaN   \n",
       "1  IT0005315996        16.670371        100.0     17.492711            NaN   \n",
       "2  IT0005159543         0.000000        100.0   6525.285481   23536.201366   \n",
       "3  IT0005446007      1111.358080        100.0   1219.512195   23536.201366   \n",
       "4  IT0005104945         0.000000        100.0  13683.010262            NaN   \n",
       "\n",
       "     TOTAL_DEBT  TOTAL_PREFERRED_EQUITY  TOTAL_COMMON_EQUITY  \\\n",
       "0           NaN                     NaN                  NaN   \n",
       "1           NaN                     NaN                  NaN   \n",
       "2  18493.842459                     NaN          4018.476225   \n",
       "3  18493.842459                     NaN          4018.476225   \n",
       "4           NaN                     NaN                  NaN   \n",
       "\n",
       "   TOTAL_MINORITY_INTEREST  MARKET_CAPITALIZATION MATURITY_DATE  \n",
       "0                      NaN                    NaN    2022-03-31  \n",
       "1                      NaN                    NaN    2022-03-31  \n",
       "2                      NaN                    NaN    2022-01-27  \n",
       "3                      NaN                    NaN    2022-05-27  \n",
       "4                      NaN                    NaN    2022-02-13  "
      ]
     },
     "execution_count": 4,
     "metadata": {},
     "output_type": "execute_result"
    }
   ],
   "source": [
    "columns = ['ISSUER_NAME','INSTRUMENT_ID','ISIN','AMT_OUTSTANDING','ISSUE_PRICE','ISSUE_AMOUNT','TOTAL_REVENUE','TOTAL_DEBT','TOTAL_PREFERRED_EQUITY','TOTAL_COMMON_EQUITY','TOTAL_MINORITY_INTEREST',\n",
    "           'MARKET_CAPITALIZATION','MATURITY_DATE']\n",
    "revenue_data = data_2.copy()\n",
    "revenue_data.columns = columns\n",
    "revenue_data.head()"
   ]
  },
  {
   "cell_type": "markdown",
   "metadata": {},
   "source": [
    "### Industry Classification file"
   ]
  },
  {
   "cell_type": "code",
   "execution_count": 5,
   "metadata": {},
   "outputs": [
    {
     "data": {
      "text/html": [
       "<div>\n",
       "<style scoped>\n",
       "    .dataframe tbody tr th:only-of-type {\n",
       "        vertical-align: middle;\n",
       "    }\n",
       "\n",
       "    .dataframe tbody tr th {\n",
       "        vertical-align: top;\n",
       "    }\n",
       "\n",
       "    .dataframe thead th {\n",
       "        text-align: right;\n",
       "    }\n",
       "</style>\n",
       "<table border=\"1\" class=\"dataframe\">\n",
       "  <thead>\n",
       "    <tr style=\"text-align: right;\">\n",
       "      <th></th>\n",
       "      <th>ISSUER_NAME</th>\n",
       "      <th>INSTRUMENT_ID</th>\n",
       "      <th>ISIN</th>\n",
       "      <th>PARENT_COMPANY_NAME</th>\n",
       "      <th>ULTIMATE_PARENT_COMPANY</th>\n",
       "      <th>INDUSTRY_CLASSIFICATION</th>\n",
       "      <th>SIC_CODE</th>\n",
       "      <th>MATURITY_DATE</th>\n",
       "    </tr>\n",
       "  </thead>\n",
       "  <tbody>\n",
       "    <tr>\n",
       "      <th>0</th>\n",
       "      <td>2Ab Management</td>\n",
       "      <td>SPS333860852</td>\n",
       "      <td>FR0013166550</td>\n",
       "      <td>NaN</td>\n",
       "      <td>NaN</td>\n",
       "      <td>Unclassified</td>\n",
       "      <td>NaN</td>\n",
       "      <td>2034-08-15</td>\n",
       "    </tr>\n",
       "    <tr>\n",
       "      <th>1</th>\n",
       "      <td>2i Rete Gas SpA</td>\n",
       "      <td>SPS702250617</td>\n",
       "      <td>XS2292547317</td>\n",
       "      <td>F2i Reti Italia S.r.l.</td>\n",
       "      <td>F2i Reti Italia S.r.l.</td>\n",
       "      <td>Gas Utilities</td>\n",
       "      <td>6719.0</td>\n",
       "      <td>2031-01-29</td>\n",
       "    </tr>\n",
       "    <tr>\n",
       "      <th>2</th>\n",
       "      <td>2Worlds S.R.L.</td>\n",
       "      <td>SPS572404182</td>\n",
       "      <td>IT0005337735</td>\n",
       "      <td>NaN</td>\n",
       "      <td>NaN</td>\n",
       "      <td>Unclassified</td>\n",
       "      <td>NaN</td>\n",
       "      <td>2037-01-30</td>\n",
       "    </tr>\n",
       "    <tr>\n",
       "      <th>3</th>\n",
       "      <td>2Worlds S.R.L.</td>\n",
       "      <td>SPS572404183</td>\n",
       "      <td>IT0005337743</td>\n",
       "      <td>NaN</td>\n",
       "      <td>NaN</td>\n",
       "      <td>Unclassified</td>\n",
       "      <td>NaN</td>\n",
       "      <td>2037-01-30</td>\n",
       "    </tr>\n",
       "    <tr>\n",
       "      <th>4</th>\n",
       "      <td>2Worlds S.R.L.</td>\n",
       "      <td>SPS572404184</td>\n",
       "      <td>IT0005337750</td>\n",
       "      <td>NaN</td>\n",
       "      <td>NaN</td>\n",
       "      <td>Unclassified</td>\n",
       "      <td>NaN</td>\n",
       "      <td>2037-01-30</td>\n",
       "    </tr>\n",
       "  </tbody>\n",
       "</table>\n",
       "</div>"
      ],
      "text/plain": [
       "       ISSUER_NAME INSTRUMENT_ID          ISIN     PARENT_COMPANY_NAME  \\\n",
       "0   2Ab Management  SPS333860852  FR0013166550                     NaN   \n",
       "1  2i Rete Gas SpA  SPS702250617  XS2292547317  F2i Reti Italia S.r.l.   \n",
       "2   2Worlds S.R.L.  SPS572404182  IT0005337735                     NaN   \n",
       "3   2Worlds S.R.L.  SPS572404183  IT0005337743                     NaN   \n",
       "4   2Worlds S.R.L.  SPS572404184  IT0005337750                     NaN   \n",
       "\n",
       "  ULTIMATE_PARENT_COMPANY INDUSTRY_CLASSIFICATION  SIC_CODE MATURITY_DATE  \n",
       "0                     NaN            Unclassified       NaN    2034-08-15  \n",
       "1  F2i Reti Italia S.r.l.           Gas Utilities    6719.0    2031-01-29  \n",
       "2                     NaN            Unclassified       NaN    2037-01-30  \n",
       "3                     NaN            Unclassified       NaN    2037-01-30  \n",
       "4                     NaN            Unclassified       NaN    2037-01-30  "
      ]
     },
     "execution_count": 5,
     "metadata": {},
     "output_type": "execute_result"
    }
   ],
   "source": [
    "files_industry = bonds_file(path_2)\n",
    "\n",
    "data_2 = []\n",
    "for f in files_industry:\n",
    "    data2 = read_file_bonds(f[1],path_2)\n",
    "    data_2.append(data2)\n",
    "\n",
    "data_2 = pd.concat(data_2)\n",
    "columns = ['ISSUER_NAME','INSTRUMENT_ID','ISIN','PARENT_COMPANY_NAME','ULTIMATE_PARENT_COMPANY','INDUSTRY_CLASSIFICATION','SIC_CODE','MATURITY_DATE']\n",
    "\n",
    "industry_data = data_2.copy()\n",
    "industry_data.columns = columns\n",
    "industry_data.head()\n"
   ]
  },
  {
   "cell_type": "markdown",
   "metadata": {},
   "source": [
    "### Download file"
   ]
  },
  {
   "cell_type": "code",
   "execution_count": 6,
   "metadata": {},
   "outputs": [],
   "source": [
    "revenue_data.to_excel(directory[:-7] + '2. Data/2. Company Information Data/Combined_Revenue_S&P.xlsx',index = None)\n"
   ]
  },
  {
   "cell_type": "code",
   "execution_count": 7,
   "metadata": {},
   "outputs": [],
   "source": [
    "industry_data.to_excel(directory[:-7] + '2. Data/2. Company Information Data/Combined_Industry_S&P.xlsx',index = None)"
   ]
  }
 ],
 "metadata": {
  "kernelspec": {
   "display_name": "Python 3 (ipykernel)",
   "language": "python",
   "name": "python3"
  },
  "language_info": {
   "codemirror_mode": {
    "name": "ipython",
    "version": 3
   },
   "file_extension": ".py",
   "mimetype": "text/x-python",
   "name": "python",
   "nbconvert_exporter": "python",
   "pygments_lexer": "ipython3",
   "version": "3.8.13"
  }
 },
 "nbformat": 4,
 "nbformat_minor": 4
}
