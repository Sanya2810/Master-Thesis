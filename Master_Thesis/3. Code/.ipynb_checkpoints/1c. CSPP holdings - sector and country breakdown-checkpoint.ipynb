{
 "cells": [
  {
   "cell_type": "markdown",
   "metadata": {},
   "source": [
    "## Breakdown of CSPP holdings by sector and country of risk"
   ]
  },
  {
   "cell_type": "markdown",
   "metadata": {},
   "source": [
    "<p>The ECB semi-annually publishes the percentage breakdown of their corporate bond purchases for each sector and country of risk. It also publishes the monthly breakdown of historical purchases. </p>"
   ]
  },
  {
   "cell_type": "markdown",
   "metadata": {},
   "source": [
    "### Import Library"
   ]
  },
  {
   "cell_type": "code",
   "execution_count": 1,
   "metadata": {},
   "outputs": [],
   "source": [
    "import pandas as pd\n",
    "import os\n",
    "from openpyxl import load_workbook\n",
    "import warnings\n",
    "warnings.filterwarnings(\"ignore\")\n",
    "from functions_file_1 import clean_portfolio_value,sector_breakdown,country_breakdown, clean_portfolio_yearly"
   ]
  },
  {
   "cell_type": "code",
   "execution_count": 2,
   "metadata": {},
   "outputs": [],
   "source": [
    "directory = os.getcwd()\n",
    "path = directory[:-7] + '2. Data/1. ECB Data/Portfolio Value Information/'\n",
    "path_2 = directory[:-7] + '2. Data/1. ECB Data/'"
   ]
  },
  {
   "cell_type": "markdown",
   "metadata": {},
   "source": [
    "### Cumulative historical purchases "
   ]
  },
  {
   "cell_type": "markdown",
   "metadata": {},
   "source": [
    "<p>The monthly purchases are aggregated semi-annually where A1 in the data represents first half year and A2 represents second half year. The total holdings are in EUR millions and the revenue information collected (later) is in USD. So, the holdings were converted into USD multiplying by a factor of 1.05.</p>"
   ]
  },
  {
   "cell_type": "code",
   "execution_count": 3,
   "metadata": {},
   "outputs": [],
   "source": [
    "# import the dataset\n",
    "portfolio_value = pd.read_csv(path + 'CSPP_breakdown_history.csv',skiprows=1,skipfooter=2, engine = 'python')"
   ]
  },
  {
   "cell_type": "markdown",
   "metadata": {},
   "source": [
    "<p>The monthly purchases are aggregated yearly. </p>"
   ]
  },
  {
   "cell_type": "code",
   "execution_count": 4,
   "metadata": {},
   "outputs": [
    {
     "data": {
      "text/html": [
       "<div>\n",
       "<style scoped>\n",
       "    .dataframe tbody tr th:only-of-type {\n",
       "        vertical-align: middle;\n",
       "    }\n",
       "\n",
       "    .dataframe tbody tr th {\n",
       "        vertical-align: top;\n",
       "    }\n",
       "\n",
       "    .dataframe thead th {\n",
       "        text-align: right;\n",
       "    }\n",
       "</style>\n",
       "<table border=\"1\" class=\"dataframe\">\n",
       "  <thead>\n",
       "    <tr style=\"text-align: right;\">\n",
       "      <th></th>\n",
       "      <th>YEAR</th>\n",
       "      <th>TOTAL_HOLDINGS</th>\n",
       "      <th>TOTAL_HOLDINGS(USD)</th>\n",
       "    </tr>\n",
       "  </thead>\n",
       "  <tbody>\n",
       "    <tr>\n",
       "      <th>0</th>\n",
       "      <td>2017</td>\n",
       "      <td>114630.285714</td>\n",
       "      <td>120362.0</td>\n",
       "    </tr>\n",
       "    <tr>\n",
       "      <th>1</th>\n",
       "      <td>2018</td>\n",
       "      <td>160838.500000</td>\n",
       "      <td>168880.0</td>\n",
       "    </tr>\n",
       "    <tr>\n",
       "      <th>2</th>\n",
       "      <td>2019</td>\n",
       "      <td>178566.166667</td>\n",
       "      <td>187494.0</td>\n",
       "    </tr>\n",
       "    <tr>\n",
       "      <th>3</th>\n",
       "      <td>2020</td>\n",
       "      <td>221303.000000</td>\n",
       "      <td>232368.0</td>\n",
       "    </tr>\n",
       "    <tr>\n",
       "      <th>4</th>\n",
       "      <td>2021</td>\n",
       "      <td>283620.416667</td>\n",
       "      <td>297801.0</td>\n",
       "    </tr>\n",
       "  </tbody>\n",
       "</table>\n",
       "</div>"
      ],
      "text/plain": [
       "   YEAR  TOTAL_HOLDINGS  TOTAL_HOLDINGS(USD)\n",
       "0  2017   114630.285714             120362.0\n",
       "1  2018   160838.500000             168880.0\n",
       "2  2019   178566.166667             187494.0\n",
       "3  2020   221303.000000             232368.0\n",
       "4  2021   283620.416667             297801.0"
      ]
     },
     "execution_count": 4,
     "metadata": {},
     "output_type": "execute_result"
    }
   ],
   "source": [
    "yearly_value_breakdown = clean_portfolio_yearly(portfolio_value)\n",
    "yearly_value_breakdown.head()"
   ]
  },
  {
   "cell_type": "code",
   "execution_count": 5,
   "metadata": {},
   "outputs": [
    {
     "data": {
      "text/html": [
       "<div>\n",
       "<style scoped>\n",
       "    .dataframe tbody tr th:only-of-type {\n",
       "        vertical-align: middle;\n",
       "    }\n",
       "\n",
       "    .dataframe tbody tr th {\n",
       "        vertical-align: top;\n",
       "    }\n",
       "\n",
       "    .dataframe thead th {\n",
       "        text-align: right;\n",
       "    }\n",
       "</style>\n",
       "<table border=\"1\" class=\"dataframe\">\n",
       "  <thead>\n",
       "    <tr style=\"text-align: right;\">\n",
       "      <th></th>\n",
       "      <th>KEY</th>\n",
       "      <th>TOTAL_HOLDINGS</th>\n",
       "      <th>TOTAL_HOLDINGS(USD)</th>\n",
       "    </tr>\n",
       "  </thead>\n",
       "  <tbody>\n",
       "    <tr>\n",
       "      <th>0</th>\n",
       "      <td>2017A1</td>\n",
       "      <td>96620.000000</td>\n",
       "      <td>101451.0</td>\n",
       "    </tr>\n",
       "    <tr>\n",
       "      <th>1</th>\n",
       "      <td>2017A2</td>\n",
       "      <td>117632.000000</td>\n",
       "      <td>123514.0</td>\n",
       "    </tr>\n",
       "    <tr>\n",
       "      <th>2</th>\n",
       "      <td>2018A1</td>\n",
       "      <td>149883.833333</td>\n",
       "      <td>157378.0</td>\n",
       "    </tr>\n",
       "    <tr>\n",
       "      <th>3</th>\n",
       "      <td>2018A2</td>\n",
       "      <td>171793.166667</td>\n",
       "      <td>180383.0</td>\n",
       "    </tr>\n",
       "    <tr>\n",
       "      <th>4</th>\n",
       "      <td>2019A1</td>\n",
       "      <td>177788.500000</td>\n",
       "      <td>186678.0</td>\n",
       "    </tr>\n",
       "  </tbody>\n",
       "</table>\n",
       "</div>"
      ],
      "text/plain": [
       "      KEY  TOTAL_HOLDINGS  TOTAL_HOLDINGS(USD)\n",
       "0  2017A1    96620.000000             101451.0\n",
       "1  2017A2   117632.000000             123514.0\n",
       "2  2018A1   149883.833333             157378.0\n",
       "3  2018A2   171793.166667             180383.0\n",
       "4  2019A1   177788.500000             186678.0"
      ]
     },
     "execution_count": 5,
     "metadata": {},
     "output_type": "execute_result"
    }
   ],
   "source": [
    "value_breakdown = clean_portfolio_value(portfolio_value)\n",
    "value_breakdown.head()"
   ]
  },
  {
   "cell_type": "markdown",
   "metadata": {},
   "source": [
    "### Holdings by sector and country of risk"
   ]
  },
  {
   "cell_type": "code",
   "execution_count": 6,
   "metadata": {},
   "outputs": [],
   "source": [
    "filepath = path + 'CSPP_breakdown_by_sector_rating_country.xlsx'"
   ]
  },
  {
   "cell_type": "code",
   "execution_count": 7,
   "metadata": {},
   "outputs": [],
   "source": [
    "wb = load_workbook(filepath)\n",
    "# Name of sheets in the workbook\n",
    "names = wb.sheetnames"
   ]
  },
  {
   "cell_type": "markdown",
   "metadata": {},
   "source": [
    "#### Sector"
   ]
  },
  {
   "cell_type": "markdown",
   "metadata": {},
   "source": [
    "<p>Semi-annual sector breakdown </p>"
   ]
  },
  {
   "cell_type": "code",
   "execution_count": 8,
   "metadata": {},
   "outputs": [],
   "source": [
    "sector_value = sector_breakdown(filepath,names)"
   ]
  },
  {
   "cell_type": "code",
   "execution_count": 9,
   "metadata": {},
   "outputs": [],
   "source": [
    "# removing duplicate names\n",
    "sector_value['ECONOMIC_SECTOR'].mask(sector_value['ECONOMIC_SECTOR'] == 'Food ','Food',inplace=True)\n",
    "sector_value['ECONOMIC_SECTOR'].mask(sector_value['ECONOMIC_SECTOR'] == 'Construction and materials','Construction & Materials',inplace=True)\n",
    "sector_value['ECONOMIC_SECTOR'].mask(sector_value['ECONOMIC_SECTOR'] == 'Telecommunications','Telecommunication',inplace=True)\n"
   ]
  },
  {
   "cell_type": "markdown",
   "metadata": {},
   "source": [
    "<p>Yearly average sector breakdown </p>"
   ]
  },
  {
   "cell_type": "code",
   "execution_count": 10,
   "metadata": {},
   "outputs": [],
   "source": [
    "yearly_sector_value = sector_value.copy()\n",
    "yearly_sector_value['YEAR'] = [x[:4] for x in yearly_sector_value['KEY']]\n",
    "yearly_sector = yearly_sector_value.groupby(['YEAR','ECONOMIC_SECTOR']).mean()\n",
    "yearly_sector = yearly_sector.reset_index()"
   ]
  },
  {
   "cell_type": "markdown",
   "metadata": {},
   "source": [
    "#### Country of risk"
   ]
  },
  {
   "cell_type": "markdown",
   "metadata": {},
   "source": [
    "<p>Semi-annual country breakdown </p>"
   ]
  },
  {
   "cell_type": "code",
   "execution_count": 11,
   "metadata": {},
   "outputs": [],
   "source": [
    "country_value = country_breakdown(filepath,names)"
   ]
  },
  {
   "cell_type": "markdown",
   "metadata": {},
   "source": [
    "<p>Yearly average country breakdown </p>"
   ]
  },
  {
   "cell_type": "code",
   "execution_count": 12,
   "metadata": {},
   "outputs": [],
   "source": [
    "yearly_country_value = country_value.copy()\n",
    "yearly_country_value['YEAR'] = [x[:4] for x in yearly_country_value['KEY']]\n",
    "yearly_country = yearly_country_value.groupby(['YEAR','RISK_COUNTRY']).mean()\n",
    "yearly_country = yearly_country.reset_index()"
   ]
  },
  {
   "cell_type": "markdown",
   "metadata": {},
   "source": [
    "### Download files "
   ]
  },
  {
   "cell_type": "code",
   "execution_count": 13,
   "metadata": {},
   "outputs": [],
   "source": [
    "writer = pd.ExcelWriter(path_2 + 'Portfolio_Breakdown_Information.xlsx', engine='xlsxwriter')"
   ]
  },
  {
   "cell_type": "code",
   "execution_count": 14,
   "metadata": {},
   "outputs": [],
   "source": [
    "value_breakdown.to_excel(writer, sheet_name='Portfolio_Value',index= None)\n",
    "yearly_value_breakdown.to_excel(writer, sheet_name='Yearly_Portfolio_Value',index= None)\n",
    "sector_value.to_excel(writer, sheet_name='Sector_Breakdown', index= None)\n",
    "country_value.to_excel(writer, sheet_name='Country_Breakdown', index = None)\n",
    "yearly_sector.to_excel(writer, sheet_name='Yearly_Sector_Breakdown', index= None)\n",
    "yearly_country.to_excel(writer, sheet_name='Yearly_Country_Breakdown', index = None)"
   ]
  },
  {
   "cell_type": "code",
   "execution_count": 15,
   "metadata": {},
   "outputs": [],
   "source": [
    "writer.save()"
   ]
  }
 ],
 "metadata": {
  "kernelspec": {
   "display_name": "Python 3 (ipykernel)",
   "language": "python",
   "name": "python3"
  },
  "language_info": {
   "codemirror_mode": {
    "name": "ipython",
    "version": 3
   },
   "file_extension": ".py",
   "mimetype": "text/x-python",
   "name": "python",
   "nbconvert_exporter": "python",
   "pygments_lexer": "ipython3",
   "version": "3.8.13"
  }
 },
 "nbformat": 4,
 "nbformat_minor": 4
}
