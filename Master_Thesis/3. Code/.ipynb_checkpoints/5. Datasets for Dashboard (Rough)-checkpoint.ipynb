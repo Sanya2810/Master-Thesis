{
 "cells": [
  {
   "cell_type": "code",
   "execution_count": null,
   "id": "a643a399",
   "metadata": {},
   "outputs": [],
   "source": [
    "df = data.copy()\n",
    "df['weights'] = df['TOTAL_GHG: MEAN_INTENSITY']/df['TOTAL__REVENUE']\n",
    "average_intensity = df.groupby(by = [\"ECONOMIC_SECTOR\",\"NEW_QUARTER\"]).agg({'weights':'mean'})\n",
    "avg_intensity = average_intensity.sort_values(by='weights',ascending=False)\n",
    "avg_intensity = avg_intensity.reset_index()\n",
    "avg_intensity"
   ]
  },
  {
   "cell_type": "code",
   "execution_count": null,
   "id": "e5b37550",
   "metadata": {},
   "outputs": [],
   "source": [
    "avg_intensity.to_excel(url + 'Emission_intensity.xlsx')"
   ]
  },
  {
   "cell_type": "code",
   "execution_count": null,
   "id": "8945dcea",
   "metadata": {},
   "outputs": [],
   "source": [
    "# number of bonds purchased in each sector\n",
    "bonds = df.groupby(by = [\"ECONOMIC_SECTOR\",\"NEW_QUARTER\"])['ISIN_CODE'].count()\n",
    "bond = bonds.reset_index()\n",
    "columns = ['NACE_CODE','KEY',\"COUNT\"]\n",
    "bond.columns = columns\n",
    "bond.to_excel(url + \"Bonds_classification.xlsx\")"
   ]
  },
  {
   "cell_type": "code",
   "execution_count": null,
   "id": "bdb942e4",
   "metadata": {},
   "outputs": [],
   "source": [
    "df2 = final_data.copy()\n",
    "key = '2020A1'\n",
    "df2 = df2[df2['NEW_QUARTER']==key]\n",
    "df2['Difference'] = df2['MEAN_WEIGHTED_INTENSITY'].round(2) - df2['MED_WEIGHTED_INTENSITY'].round(2)\n",
    "df3 = df2.sort_values(by = 'Difference',ascending = False)\n",
    "df3 = df3[df3['Difference']>0]\n",
    "# Top 10 sectors with maximum difference\n",
    "df4 = df3.iloc[:10,:]\n",
    "df4"
   ]
  },
  {
   "cell_type": "code",
   "execution_count": null,
   "id": "7e152fe7",
   "metadata": {},
   "outputs": [],
   "source": [
    "df4['new'] = df4[['ECONOMIC_SECTOR', 'RISK_COUNTRY','NEW_QUARTER']].apply(tuple, axis=1)\n",
    "df4"
   ]
  },
  {
   "cell_type": "code",
   "execution_count": null,
   "id": "e6402c6d",
   "metadata": {},
   "outputs": [],
   "source": [
    "df4['ECONOMIC_SECTOR'].unique()"
   ]
  },
  {
   "cell_type": "code",
   "execution_count": null,
   "id": "1646a9e5",
   "metadata": {},
   "outputs": [],
   "source": [
    "pd.set_option('display.float_format', lambda x: '%.5f' % x)\n",
    "x = data[(data['ECONOMIC_SECTOR']=='Real estate') & (data['RISK_COUNTRY']=='France')& \n",
    "     (data['NEW_QUARTER']=='2017A2') ]\n",
    "x[['ISSUER_NAME','TOTAL_GHG/REVENUE: AVG_INTENSITY','TOTAL__REVENUE']].drop_duplicates().sort_values(by='TOTAL_GHG/REVENUE: AVG_INTENSITY',\n",
    "                                                                                                    ascending = False)"
   ]
  },
  {
   "cell_type": "code",
   "execution_count": null,
   "id": "b69458fc",
   "metadata": {},
   "outputs": [],
   "source": [
    "def check_difference_waci(file,key):\n",
    "    df = file[file['NEW_QUARTER']==key]\n",
    "    df['DIFF'] = df['MEAN_WEIGHTED_INTENSITY'].round(2) - df['MED_WEIGHTED_INTENSITY'].round(2)\n",
    "    df2 = df.sort_values(by = 'DIFF',ascending = False)\n",
    "    # Top 10 rows with maximum difference\n",
    "    df3 = df2.iloc[:10,:]\n",
    "    df3['new'] = df3[['ECONOMIC_SECTOR', 'RISK_COUNTRY','NEW_QUARTER']].apply(tuple, axis=1)\n",
    "    sector_name = df3['ECONOMIC_SECTOR'].unique()\n",
    "    condition = df3['new'].tolist()\n",
    "    return sector_name, condition"
   ]
  },
  {
   "cell_type": "code",
   "execution_count": null,
   "id": "756c1261",
   "metadata": {},
   "outputs": [],
   "source": [
    "x = create_data(data,c)"
   ]
  },
  {
   "cell_type": "code",
   "execution_count": null,
   "id": "e0a55cf4",
   "metadata": {},
   "outputs": [],
   "source": [
    "mask = data[['ECONOMIC_SECTOR', 'RISK_COUNTRY','NEW_QUARTER']].agg(tuple, 1).isin(c)"
   ]
  },
  {
   "cell_type": "code",
   "execution_count": null,
   "id": "7404e41f",
   "metadata": {},
   "outputs": [],
   "source": [
    "x = data[mask]\n",
    "y = x.groupby(by=['ISSUER_NAME','RISK_COUNTRY',\"ECONOMIC_SECTOR\"])['ISIN_CODE'].count()\n",
    "y = y.reset_index()"
   ]
  },
  {
   "cell_type": "code",
   "execution_count": null,
   "id": "743af631",
   "metadata": {},
   "outputs": [],
   "source": [
    "df = x[['ISSUER_NAME','RISK_COUNTRY',\"ECONOMIC_SECTOR\",'TOTAL_GHG/REVENUE: AVG_INTENSITY']]\n",
    "data = y.merge(df , on = ['ISSUER_NAME','RISK_COUNTRY',\"ECONOMIC_SECTOR\"],how =\"left\").drop_duplicates()"
   ]
  },
  {
   "cell_type": "code",
   "execution_count": null,
   "id": "a8342500",
   "metadata": {},
   "outputs": [],
   "source": [
    "def table_data(file_1,file_2,key,i):\n",
    "    # table\n",
    "    sector, condition = check_difference_waci(file_1,key)\n",
    "    data = create_data(file_2,condition)\n",
    "    df = data[data['ECONOMIC_SECTOR'] == sector[i]]\n",
    "    columns_to_drop = ['ECONOMIC_SECTOR']\n",
    "    df = df.drop(columns_to_drop, axis = 1)\n",
    "    df = df.sort_values(by = 'TOTAL_GHG/REVENUE: AVG_INTENSITY',ascending = False)\n",
    "        # top 10\n",
    "    df = df.iloc[:10,:]\n",
    "    return df"
   ]
  },
  {
   "cell_type": "code",
   "execution_count": null,
   "id": "683411d2",
   "metadata": {},
   "outputs": [],
   "source": [
    "table_data(final_data,data,'2017A2',1)"
   ]
  },
  {
   "cell_type": "code",
   "execution_count": null,
   "id": "1e0e2f8c",
   "metadata": {},
   "outputs": [],
   "source": [
    "keys = final_data['NEW_QUARTER'].unique()\n",
    "keys"
   ]
  },
  {
   "cell_type": "code",
   "execution_count": null,
   "id": "db641680",
   "metadata": {},
   "outputs": [],
   "source": [
    "keys = ['2017A2', '2018A1', '2018A2', '2019A1', '2019A2',\n",
    "       '2020A1', '2020A2', '2021A1', '2021A2', '2022A1']\n",
    "\n",
    "for k in keys:\n",
    "    sector, condition = check_difference_waci(final_data,k)\n",
    "    df2 = create_data(data,condition)\n",
    "    df2['KEY'] = k\n",
    "    df.append(df2)"
   ]
  },
  {
   "cell_type": "code",
   "execution_count": null,
   "id": "f1275974",
   "metadata": {},
   "outputs": [],
   "source": [
    "new_data = pd.concat(df)"
   ]
  },
  {
   "cell_type": "code",
   "execution_count": null,
   "id": "20f191b7",
   "metadata": {},
   "outputs": [],
   "source": [
    "columns = ['Company Name','Country of Risk','Sector','Avg. Emission Intensity',\n",
    "          'Number of Bonds','Key']\n",
    "new_data.columns = columns"
   ]
  },
  {
   "cell_type": "code",
   "execution_count": null,
   "id": "bad5dd93",
   "metadata": {},
   "outputs": [],
   "source": [
    "new_data.to_excel(url + 'Data.xlsx',index = None)"
   ]
  },
  {
   "cell_type": "code",
   "execution_count": null,
   "id": "4102f21d",
   "metadata": {},
   "outputs": [],
   "source": []
  },
  {
   "cell_type": "code",
   "execution_count": null,
   "id": "26032501",
   "metadata": {},
   "outputs": [],
   "source": []
  }
 ],
 "metadata": {
  "kernelspec": {
   "display_name": "Python 3 (ipykernel)",
   "language": "python",
   "name": "python3"
  },
  "language_info": {
   "codemirror_mode": {
    "name": "ipython",
    "version": 3
   },
   "file_extension": ".py",
   "mimetype": "text/x-python",
   "name": "python",
   "nbconvert_exporter": "python",
   "pygments_lexer": "ipython3",
   "version": "3.8.13"
  }
 },
 "nbformat": 4,
 "nbformat_minor": 5
}
