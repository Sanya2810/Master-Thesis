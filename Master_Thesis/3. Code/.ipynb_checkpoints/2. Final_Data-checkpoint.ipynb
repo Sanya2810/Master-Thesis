{
 "cells": [
  {
   "cell_type": "markdown",
   "metadata": {},
   "source": [
    "### Import Libraries"
   ]
  },
  {
   "cell_type": "code",
   "execution_count": 1,
   "metadata": {},
   "outputs": [],
   "source": [
    "from require import *"
   ]
  },
  {
   "cell_type": "markdown",
   "metadata": {},
   "source": [
    "### Specify the path "
   ]
  },
  {
   "cell_type": "code",
   "execution_count": 2,
   "metadata": {},
   "outputs": [],
   "source": [
    "directory = os.getcwd()\n",
    "# path for ECB portfolio data\n",
    "url = directory[:-7] + \"2. Data/1. ECB Data/Downloaded_Data - Web Scrapping/\"\n",
    "# path for bonds data\n",
    "url_2 = directory[:-7] + \"2. Data/2. Bonds Data/Bonds - S & P/\"\n",
    "url_3 = directory[:-7] + \"2. Data/2. Bonds Data/00_Company_Information/\"\n",
    "url_4 = directory[:-7] + \"2. Data/2. Bonds Data/Bonds - TR/\""
   ]
  },
  {
   "cell_type": "markdown",
   "metadata": {},
   "source": [
    "### Merge the data"
   ]
  },
  {
   "cell_type": "code",
   "execution_count": null,
   "metadata": {},
   "outputs": [],
   "source": [
    "# ECB DATA \n",
    "data = []\n",
    "\n",
    "files_ecb = names_of_file(url)\n",
    "\n",
    "for f in files_ecb:\n",
    "    data2 = read_file_ecb(f[1],url)\n",
    "    data.append(data2)\n",
    "    \n",
    "data = pd.concat(data)\n",
    "\n",
    "# Cleaning data \n",
    "ecb_data = data.drop(columns = [5,6])\n",
    "columns = ['NCB','ISIN_CODE','ISSUER_NAME','MATURITY_DATE','COUPON_RATE','PUBLISHED_DATE','YEAR','MONTH']\n",
    "ecb_data.columns = columns\n",
    "ecb_data = ecb_data.dropna(axis = 0)\n",
    "ecb_data.head()"
   ]
  },
  {
   "cell_type": "code",
   "execution_count": null,
   "metadata": {},
   "outputs": [],
   "source": [
    "# BONDS DATA - S&P\n",
    "files_bonds = bonds_file(url_2)\n",
    "\n",
    "data_2 = []\n",
    "for f in files_bonds:\n",
    "    data2 = read_file_bonds(f[1],url_2)\n",
    "    data_2.append(data2)\n",
    "\n",
    "data_2 = pd.concat(data_2)\n",
    "\n",
    "columns = ['ISSUER_NAME','INSTRUMENT_ID','MI_KEY','CUSIP','DESCRIPTION','ISIN','AMT_OUTSTANDING','ISSUE_PRICE', 'ISSUE_AMOUNT','TOTAL_REVENUE'\n",
    "          ,'TOTAL_DEBT','TOTAL_PREFERRED_EQUITY','TOTAL_COMMON_EQUITY','TOTAL_MINORITY_INTEREST','MARKET_CAPITALIZATION','MATURITY_DATE']\n",
    "\n",
    "bonds_data = data_2.copy()\n",
    "bonds_data.columns = columns\n",
    "bonds_data.head()"
   ]
  },
  {
   "cell_type": "code",
   "execution_count": 11,
   "metadata": {},
   "outputs": [
    {
     "data": {
      "text/html": [
       "<div>\n",
       "<style scoped>\n",
       "    .dataframe tbody tr th:only-of-type {\n",
       "        vertical-align: middle;\n",
       "    }\n",
       "\n",
       "    .dataframe tbody tr th {\n",
       "        vertical-align: top;\n",
       "    }\n",
       "\n",
       "    .dataframe thead th {\n",
       "        text-align: right;\n",
       "    }\n",
       "</style>\n",
       "<table border=\"1\" class=\"dataframe\">\n",
       "  <thead>\n",
       "    <tr style=\"text-align: right;\">\n",
       "      <th></th>\n",
       "      <th>ISSUER</th>\n",
       "      <th>SECTOR</th>\n",
       "      <th>ISIN</th>\n",
       "      <th>PREFERRED_RIC</th>\n",
       "      <th>ISSUE_DATE</th>\n",
       "      <th>MATURITY</th>\n",
       "      <th>INSTRUMENT_TYPE</th>\n",
       "      <th>COUPON</th>\n",
       "      <th>BOND_GRADE</th>\n",
       "      <th>PRINCIPLE_CURRENCY</th>\n",
       "      <th>ECB_ELIGIBLE</th>\n",
       "      <th>ISSUE_PRICE</th>\n",
       "      <th>YIELD_TO_MATURITY</th>\n",
       "      <th>AMOUNT_ISSUED</th>\n",
       "      <th>COUNTRY_OF_ISSUE</th>\n",
       "      <th>SIC</th>\n",
       "      <th>TRBC_SECTOR</th>\n",
       "      <th>AMOUNT_OUTSTANDING</th>\n",
       "    </tr>\n",
       "  </thead>\n",
       "  <tbody>\n",
       "    <tr>\n",
       "      <th>0</th>\n",
       "      <td>Issuer</td>\n",
       "      <td>Sector</td>\n",
       "      <td>ISIN</td>\n",
       "      <td>Preferred RIC</td>\n",
       "      <td>Issue Date</td>\n",
       "      <td>Maturity</td>\n",
       "      <td>Instrument Type</td>\n",
       "      <td>Coupon</td>\n",
       "      <td>Bond Grade</td>\n",
       "      <td>Principal Currency</td>\n",
       "      <td>ECB eligible</td>\n",
       "      <td>Issue Price</td>\n",
       "      <td>Yield to Maturity</td>\n",
       "      <td>Amount Issued</td>\n",
       "      <td>Country of Issue</td>\n",
       "      <td>SIC</td>\n",
       "      <td>TRBC Sector</td>\n",
       "      <td>Amount Outstanding</td>\n",
       "    </tr>\n",
       "    <tr>\n",
       "      <th>1</th>\n",
       "      <td>Cortinabanca Credito Cooperativo Sc</td>\n",
       "      <td>Banking</td>\n",
       "      <td>IT0005151870</td>\n",
       "      <td>NaN</td>\n",
       "      <td>2016-01-01 00:00:00</td>\n",
       "      <td>2019-01-01 00:00:00</td>\n",
       "      <td>Bond</td>\n",
       "      <td>0.35</td>\n",
       "      <td>NaN</td>\n",
       "      <td>Euro</td>\n",
       "      <td>No</td>\n",
       "      <td>100</td>\n",
       "      <td>-</td>\n",
       "      <td>8000000</td>\n",
       "      <td>Italy</td>\n",
       "      <td>6029</td>\n",
       "      <td>Corporate Banks</td>\n",
       "      <td>0</td>\n",
       "    </tr>\n",
       "    <tr>\n",
       "      <th>2</th>\n",
       "      <td>Cortinabanca Credito Cooperativo Sc</td>\n",
       "      <td>Banking</td>\n",
       "      <td>IT0005151896</td>\n",
       "      <td>NaN</td>\n",
       "      <td>2016-01-01 00:00:00</td>\n",
       "      <td>2018-01-01 00:00:00</td>\n",
       "      <td>Bond</td>\n",
       "      <td>2</td>\n",
       "      <td>NaN</td>\n",
       "      <td>Euro</td>\n",
       "      <td>No</td>\n",
       "      <td>100</td>\n",
       "      <td>-</td>\n",
       "      <td>888000</td>\n",
       "      <td>Italy</td>\n",
       "      <td>6029</td>\n",
       "      <td>Corporate Banks</td>\n",
       "      <td>0</td>\n",
       "    </tr>\n",
       "    <tr>\n",
       "      <th>3</th>\n",
       "      <td>Banca di Credito cooperativo di Casalgrasso e ...</td>\n",
       "      <td>Banking</td>\n",
       "      <td>IT0005156101</td>\n",
       "      <td>NaN</td>\n",
       "      <td>2016-01-01 00:00:00</td>\n",
       "      <td>2019-01-01 00:00:00</td>\n",
       "      <td>Bond</td>\n",
       "      <td>0.15</td>\n",
       "      <td>NaN</td>\n",
       "      <td>Euro</td>\n",
       "      <td>No</td>\n",
       "      <td>100</td>\n",
       "      <td>-</td>\n",
       "      <td>596000</td>\n",
       "      <td>Italy</td>\n",
       "      <td>6029</td>\n",
       "      <td>Banks (NEC)</td>\n",
       "      <td>0</td>\n",
       "    </tr>\n",
       "    <tr>\n",
       "      <th>4</th>\n",
       "      <td>Banca di Credito cooperativo di Casalgrasso e ...</td>\n",
       "      <td>Banking</td>\n",
       "      <td>IT0005156119</td>\n",
       "      <td>NaN</td>\n",
       "      <td>2016-01-01 00:00:00</td>\n",
       "      <td>2019-07-01 00:00:00</td>\n",
       "      <td>Bond</td>\n",
       "      <td>0.45</td>\n",
       "      <td>NaN</td>\n",
       "      <td>Euro</td>\n",
       "      <td>No</td>\n",
       "      <td>100</td>\n",
       "      <td>-</td>\n",
       "      <td>20000</td>\n",
       "      <td>Italy</td>\n",
       "      <td>6029</td>\n",
       "      <td>Banks (NEC)</td>\n",
       "      <td>0</td>\n",
       "    </tr>\n",
       "  </tbody>\n",
       "</table>\n",
       "</div>"
      ],
      "text/plain": [
       "                                              ISSUER   SECTOR          ISIN  \\\n",
       "0                                             Issuer   Sector          ISIN   \n",
       "1                Cortinabanca Credito Cooperativo Sc  Banking  IT0005151870   \n",
       "2                Cortinabanca Credito Cooperativo Sc  Banking  IT0005151896   \n",
       "3  Banca di Credito cooperativo di Casalgrasso e ...  Banking  IT0005156101   \n",
       "4  Banca di Credito cooperativo di Casalgrasso e ...  Banking  IT0005156119   \n",
       "\n",
       "   PREFERRED_RIC           ISSUE_DATE             MATURITY  INSTRUMENT_TYPE  \\\n",
       "0  Preferred RIC           Issue Date             Maturity  Instrument Type   \n",
       "1            NaN  2016-01-01 00:00:00  2019-01-01 00:00:00             Bond   \n",
       "2            NaN  2016-01-01 00:00:00  2018-01-01 00:00:00             Bond   \n",
       "3            NaN  2016-01-01 00:00:00  2019-01-01 00:00:00             Bond   \n",
       "4            NaN  2016-01-01 00:00:00  2019-07-01 00:00:00             Bond   \n",
       "\n",
       "   COUPON  BOND_GRADE  PRINCIPLE_CURRENCY  ECB_ELIGIBLE  ISSUE_PRICE  \\\n",
       "0  Coupon  Bond Grade  Principal Currency  ECB eligible  Issue Price   \n",
       "1    0.35         NaN                Euro            No          100   \n",
       "2       2         NaN                Euro            No          100   \n",
       "3    0.15         NaN                Euro            No          100   \n",
       "4    0.45         NaN                Euro            No          100   \n",
       "\n",
       "   YIELD_TO_MATURITY  AMOUNT_ISSUED  COUNTRY_OF_ISSUE   SIC      TRBC_SECTOR  \\\n",
       "0  Yield to Maturity  Amount Issued  Country of Issue   SIC      TRBC Sector   \n",
       "1                  -        8000000             Italy  6029  Corporate Banks   \n",
       "2                  -         888000             Italy  6029  Corporate Banks   \n",
       "3                  -         596000             Italy  6029      Banks (NEC)   \n",
       "4                  -          20000             Italy  6029      Banks (NEC)   \n",
       "\n",
       "   AMOUNT_OUTSTANDING  \n",
       "0  Amount Outstanding  \n",
       "1                   0  \n",
       "2                   0  \n",
       "3                   0  \n",
       "4                   0  "
      ]
     },
     "execution_count": 11,
     "metadata": {},
     "output_type": "execute_result"
    }
   ],
   "source": [
    "# BONDS DATA - TR\n",
    "files_bonds_tr = bonds_file(url_4)\n",
    "\n",
    "data_2 = []\n",
    "\n",
    "for f in files_bonds_tr:\n",
    "    data = read_files_tr(f[1],url_4)\n",
    "    data_2.append(data)\n",
    "    \n",
    "data_2 = pd.concat(data_2)\n",
    "\n",
    "columns = ['ISSUER','SECTOR','ISIN','PREFERRED_RIC','ISSUE_DATE','MATURITY','INSTRUMENT_TYPE','COUPON','BOND_GRADE',\n",
    "          'PRINCIPLE_CURRENCY','ECB_ELIGIBLE','ISSUE_PRICE','YIELD_TO_MATURITY','AMOUNT_ISSUED','COUNTRY_OF_ISSUE','SIC',\n",
    "           'TRBC_SECTOR','AMOUNT_OUTSTANDING']\n",
    "\n",
    "bonds_data_tr = data_2.copy()\n",
    "bonds_data_tr.columns = columns\n",
    "bonds_data_tr.head()\n",
    "    "
   ]
  },
  {
   "cell_type": "code",
   "execution_count": null,
   "metadata": {},
   "outputs": [],
   "source": [
    "# COMPANY INFORMATION DATA\n",
    "files_info = bonds_file(url_3)\n",
    "\n",
    "data_2 = []\n",
    "for f in files_info:\n",
    "    data2 = read_file_bonds(f[1],url_3)\n",
    "    data_2.append(data2)\n",
    "\n",
    "data_2 = pd.concat(data_2)\n",
    "columns = ['ISSUER_NAME','INSTRUMENT_ID','ISIN','PARENT_COMPANY_NAME','ULTIMATE_PARENT_COMPANY','INDUSTRY_CLASSIFICATION','SIC_CODE','MATURITY_DATE']\n",
    "\n",
    "info_data = data_2.copy()\n",
    "info_data.columns = columns\n",
    "info_data.head()\n"
   ]
  },
  {
   "cell_type": "markdown",
   "metadata": {},
   "source": [
    "## Combine ECB Data and Bonds Data"
   ]
  },
  {
   "cell_type": "code",
   "execution_count": null,
   "metadata": {},
   "outputs": [],
   "source": [
    "merge_bonds_info = bonds_data.merge(info_data, on = ['ISIN'])\n",
    "merged_data = ecb_data.merge(merge_bonds_info,left_on =['ISIN_CODE'],right_on=['ISIN'],how = \"left\")\n",
    "columns_to_keep = ['NCB','ISIN_CODE','ISSUER_NAME','MATURITY_DATE','COUPON_RATE','PUBLISHED_DATE','AMT_OUTSTANDING','ISSUE_PRICE','ISSUE_AMOUNT','TOTAL_REVENUE',\n",
    "                  'PARENT_COMPANY_NAME','ULTIMATE_PARENT_COMPANY','INDUSTRY_CLASSIFICATION','SIC_CODE']\n",
    "\n",
    "final_data = merged_data[columns_to_keep]"
   ]
  },
  {
   "cell_type": "code",
   "execution_count": null,
   "metadata": {},
   "outputs": [],
   "source": [
    "final_data.head()"
   ]
  },
  {
   "cell_type": "markdown",
   "metadata": {},
   "source": [
    "### Download the data"
   ]
  },
  {
   "cell_type": "code",
   "execution_count": null,
   "metadata": {},
   "outputs": [],
   "source": [
    "ecb_data.to_excel(directory[:-7] + '2. Data/1. ECB Data/ECB_Portfolio_2017_2022.xlsx',index = None)\n",
    "bonds_data.to_excel(url_2 + 'Combined_Bonds_data.xlsx',index = None)\n",
    "info_data.to_excel(url_3 + 'Company_Information_data.xlsx',index = None)"
   ]
  },
  {
   "cell_type": "code",
   "execution_count": null,
   "metadata": {},
   "outputs": [],
   "source": [
    "final_data.to_excel(directory[:-7] + \"2. Data/Final_data.xlsx\",index=None)"
   ]
  }
 ],
 "metadata": {
  "kernelspec": {
   "display_name": "Python 3",
   "language": "python",
   "name": "python3"
  },
  "language_info": {
   "codemirror_mode": {
    "name": "ipython",
    "version": 3
   },
   "file_extension": ".py",
   "mimetype": "text/x-python",
   "name": "python",
   "nbconvert_exporter": "python",
   "pygments_lexer": "ipython3",
   "version": "3.8.5"
  }
 },
 "nbformat": 4,
 "nbformat_minor": 4
}
