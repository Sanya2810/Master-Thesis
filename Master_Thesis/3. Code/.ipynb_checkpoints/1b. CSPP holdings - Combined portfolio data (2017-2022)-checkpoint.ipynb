{
 "cells": [
  {
   "cell_type": "markdown",
   "metadata": {},
   "source": [
    "## Final ECB portfolio data"
   ]
  },
  {
   "cell_type": "markdown",
   "metadata": {},
   "source": [
    "<p>The list of securities held by ECB under CSPP was downloaded in file \"1a. CSPP holdings - download portfolio data\" for every week. This file combines them into one, to create a portfolio of CSPP holdings.  </p>"
   ]
  },
  {
   "cell_type": "markdown",
   "metadata": {},
   "source": [
    "### Import libraries"
   ]
  },
  {
   "cell_type": "code",
   "execution_count": 1,
   "metadata": {},
   "outputs": [],
   "source": [
    "from functions_file_1 import read_file_ecb,names_of_file\n",
    "import os\n",
    "import pandas as pd"
   ]
  },
  {
   "cell_type": "code",
   "execution_count": 2,
   "metadata": {},
   "outputs": [],
   "source": [
    "directory = os.getcwd()\n",
    "# path for ECB portfolio data\n",
    "url = directory[:-7] + \"2. Data/1. ECB Data/Downloaded_Data - Web Scrapping/\""
   ]
  },
  {
   "cell_type": "markdown",
   "metadata": {},
   "source": [
    "### CSPP holdings database"
   ]
  },
  {
   "cell_type": "code",
   "execution_count": 3,
   "metadata": {},
   "outputs": [
    {
     "data": {
      "text/html": [
       "<div>\n",
       "<style scoped>\n",
       "    .dataframe tbody tr th:only-of-type {\n",
       "        vertical-align: middle;\n",
       "    }\n",
       "\n",
       "    .dataframe tbody tr th {\n",
       "        vertical-align: top;\n",
       "    }\n",
       "\n",
       "    .dataframe thead th {\n",
       "        text-align: right;\n",
       "    }\n",
       "</style>\n",
       "<table border=\"1\" class=\"dataframe\">\n",
       "  <thead>\n",
       "    <tr style=\"text-align: right;\">\n",
       "      <th></th>\n",
       "      <th>NCB</th>\n",
       "      <th>ISIN_CODE</th>\n",
       "      <th>ISSUER_NAME</th>\n",
       "      <th>MATURITY_DATE</th>\n",
       "      <th>COUPON_RATE</th>\n",
       "      <th>PUBLISHED_DATE</th>\n",
       "      <th>YEAR</th>\n",
       "      <th>MONTH</th>\n",
       "    </tr>\n",
       "  </thead>\n",
       "  <tbody>\n",
       "    <tr>\n",
       "      <th>0</th>\n",
       "      <td>BE</td>\n",
       "      <td>BE0002178441</td>\n",
       "      <td>Delhaize Group S.A.</td>\n",
       "      <td>19/10/2018</td>\n",
       "      <td>4.25</td>\n",
       "      <td>2018-06-08</td>\n",
       "      <td>2018</td>\n",
       "      <td>06</td>\n",
       "    </tr>\n",
       "    <tr>\n",
       "      <th>1</th>\n",
       "      <td>BE</td>\n",
       "      <td>BE0002189554</td>\n",
       "      <td>Delhaize Group S.A.</td>\n",
       "      <td>27/02/2020</td>\n",
       "      <td>3.125</td>\n",
       "      <td>2018-06-08</td>\n",
       "      <td>2018</td>\n",
       "      <td>06</td>\n",
       "    </tr>\n",
       "    <tr>\n",
       "      <th>2</th>\n",
       "      <td>BE</td>\n",
       "      <td>BE0002239086</td>\n",
       "      <td>Elia System Operator S.A./N.V.</td>\n",
       "      <td>27/05/2024</td>\n",
       "      <td>1.375</td>\n",
       "      <td>2018-06-08</td>\n",
       "      <td>2018</td>\n",
       "      <td>06</td>\n",
       "    </tr>\n",
       "    <tr>\n",
       "      <th>3</th>\n",
       "      <td>BE</td>\n",
       "      <td>BE0002256254</td>\n",
       "      <td>RESA SA</td>\n",
       "      <td>22/07/2026</td>\n",
       "      <td>1</td>\n",
       "      <td>2018-06-08</td>\n",
       "      <td>2018</td>\n",
       "      <td>06</td>\n",
       "    </tr>\n",
       "    <tr>\n",
       "      <th>4</th>\n",
       "      <td>BE</td>\n",
       "      <td>BE0002269380</td>\n",
       "      <td>Cofinimmo S.A./N.V.</td>\n",
       "      <td>09/12/2024</td>\n",
       "      <td>2</td>\n",
       "      <td>2018-06-08</td>\n",
       "      <td>2018</td>\n",
       "      <td>06</td>\n",
       "    </tr>\n",
       "  </tbody>\n",
       "</table>\n",
       "</div>"
      ],
      "text/plain": [
       "  NCB     ISIN_CODE                     ISSUER_NAME MATURITY_DATE COUPON_RATE  \\\n",
       "0  BE  BE0002178441             Delhaize Group S.A.    19/10/2018        4.25   \n",
       "1  BE  BE0002189554             Delhaize Group S.A.    27/02/2020       3.125   \n",
       "2  BE  BE0002239086  Elia System Operator S.A./N.V.    27/05/2024       1.375   \n",
       "3  BE  BE0002256254                         RESA SA    22/07/2026           1   \n",
       "4  BE  BE0002269380             Cofinimmo S.A./N.V.    09/12/2024           2   \n",
       "\n",
       "  PUBLISHED_DATE  YEAR MONTH  \n",
       "0     2018-06-08  2018    06  \n",
       "1     2018-06-08  2018    06  \n",
       "2     2018-06-08  2018    06  \n",
       "3     2018-06-08  2018    06  \n",
       "4     2018-06-08  2018    06  "
      ]
     },
     "execution_count": 3,
     "metadata": {},
     "output_type": "execute_result"
    }
   ],
   "source": [
    "# ECB DATA \n",
    "data = []\n",
    "\n",
    "files_ecb = names_of_file(url)\n",
    "\n",
    "for f in files_ecb:\n",
    "    data2 = read_file_ecb(f[1],url)\n",
    "    data.append(data2)\n",
    "    \n",
    "data = pd.concat(data)\n",
    "\n",
    "# Cleaning data \n",
    "ecb_data = data.drop(columns = [5,6])\n",
    "columns = ['NCB','ISIN_CODE','ISSUER_NAME','MATURITY_DATE','COUPON_RATE','PUBLISHED_DATE','YEAR','MONTH']\n",
    "ecb_data.columns = columns\n",
    "ecb_data = ecb_data.dropna(axis = 0)\n",
    "ecb_data.head()"
   ]
  },
  {
   "cell_type": "markdown",
   "metadata": {},
   "source": [
    "### Download database"
   ]
  },
  {
   "cell_type": "code",
   "execution_count": 5,
   "metadata": {},
   "outputs": [],
   "source": [
    "ecb_data.to_excel(directory[:-7] + '2. Data/1. ECB Data/ECB_Portfolio_2017_2022.xlsx',index = None)"
   ]
  }
 ],
 "metadata": {
  "kernelspec": {
   "display_name": "Python 3 (ipykernel)",
   "language": "python",
   "name": "python3"
  },
  "language_info": {
   "codemirror_mode": {
    "name": "ipython",
    "version": 3
   },
   "file_extension": ".py",
   "mimetype": "text/x-python",
   "name": "python",
   "nbconvert_exporter": "python",
   "pygments_lexer": "ipython3",
   "version": "3.8.13"
  }
 },
 "nbformat": 4,
 "nbformat_minor": 4
}
