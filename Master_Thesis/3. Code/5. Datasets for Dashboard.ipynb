{
 "cells": [
  {
   "cell_type": "markdown",
   "metadata": {},
   "source": [
    "## Datasets for Dashboard"
   ]
  },
  {
   "cell_type": "markdown",
   "metadata": {},
   "source": [
    "<p>Datasets required for creating visualisations in the dashboard. </p>"
   ]
  },
  {
   "cell_type": "markdown",
   "metadata": {},
   "source": [
    "### Libraries to import"
   ]
  },
  {
   "cell_type": "code",
   "execution_count": 1,
   "metadata": {},
   "outputs": [],
   "source": [
    "import pandas as pd\n",
    "import os\n",
    "import datetime as dt\n",
    "import warnings\n",
    "warnings.filterwarnings(\"ignore\")\n",
    "from functions_file_3 import risk_country"
   ]
  },
  {
   "cell_type": "code",
   "execution_count": 2,
   "metadata": {},
   "outputs": [],
   "source": [
    "directory = os.getcwd()\n",
    "url = directory[:-7] + '2. Data/1. ECB Data/Portfolio Value Information/'\n",
    "url_2 = directory[:-7] + '2. Data/1. ECB Data/'\n",
    "path = directory[:-7] + '2. Data/4. Dashboard Data/'"
   ]
  },
  {
   "cell_type": "markdown",
   "metadata": {},
   "source": [
    "### Functions to use"
   ]
  },
  {
   "cell_type": "code",
   "execution_count": 3,
   "metadata": {},
   "outputs": [],
   "source": [
    "def clean_value(filename):\n",
    "    # selecting rows for which we have downloaded ECB bonds data\n",
    "    df = filename.iloc[12:,:]\n",
    "    # calculating portfolio value for every quarter starting from June 2017 to Feb 2022\n",
    "    df['DATE'] = df['End of Month'].map(lambda x: dt.datetime.strptime(x, '%b-%y'))\n",
    "    df['DATE'] = df['End of Month'].map(lambda x: dt.datetime.strptime(x, '%b-%y'))\n",
    "    df['Month'] = pd.to_datetime(df['DATE']).dt.strftime('%b')\n",
    "    df['Year'] = pd.DatetimeIndex(df['DATE']).year\n",
    "    df['Total holdings'] = df['Total holdings'].str.replace(\",\",\"\")\n",
    "    df['Total holdings'] = df['Total holdings'].apply(pd.to_numeric)\n",
    "    columns_to_keep = ['Year','Month','Total holdings']\n",
    "    data = df[columns_to_keep]\n",
    "    return data"
   ]
  },
  {
   "cell_type": "markdown",
   "metadata": {},
   "source": [
    "### Monthly CSPP holdings (June 2017 - Feb 2022)"
   ]
  },
  {
   "cell_type": "code",
   "execution_count": 4,
   "metadata": {},
   "outputs": [],
   "source": [
    "portfolio_value = pd.read_csv(url + 'CSPP_breakdown_history.csv',skiprows=1,skipfooter=2, engine = 'python')"
   ]
  },
  {
   "cell_type": "code",
   "execution_count": 5,
   "metadata": {},
   "outputs": [
    {
     "data": {
      "text/html": [
       "<div>\n",
       "<style scoped>\n",
       "    .dataframe tbody tr th:only-of-type {\n",
       "        vertical-align: middle;\n",
       "    }\n",
       "\n",
       "    .dataframe tbody tr th {\n",
       "        vertical-align: top;\n",
       "    }\n",
       "\n",
       "    .dataframe thead th {\n",
       "        text-align: right;\n",
       "    }\n",
       "</style>\n",
       "<table border=\"1\" class=\"dataframe\">\n",
       "  <thead>\n",
       "    <tr style=\"text-align: right;\">\n",
       "      <th></th>\n",
       "      <th>Year</th>\n",
       "      <th>Month</th>\n",
       "      <th>Total holdings</th>\n",
       "      <th>Month_Number</th>\n",
       "    </tr>\n",
       "  </thead>\n",
       "  <tbody>\n",
       "    <tr>\n",
       "      <th>12</th>\n",
       "      <td>2017</td>\n",
       "      <td>Jun</td>\n",
       "      <td>96620</td>\n",
       "      <td>6</td>\n",
       "    </tr>\n",
       "    <tr>\n",
       "      <th>13</th>\n",
       "      <td>2017</td>\n",
       "      <td>Jul</td>\n",
       "      <td>102226</td>\n",
       "      <td>7</td>\n",
       "    </tr>\n",
       "    <tr>\n",
       "      <th>14</th>\n",
       "      <td>2017</td>\n",
       "      <td>Aug</td>\n",
       "      <td>106898</td>\n",
       "      <td>8</td>\n",
       "    </tr>\n",
       "    <tr>\n",
       "      <th>15</th>\n",
       "      <td>2017</td>\n",
       "      <td>Sep</td>\n",
       "      <td>114658</td>\n",
       "      <td>9</td>\n",
       "    </tr>\n",
       "    <tr>\n",
       "      <th>16</th>\n",
       "      <td>2017</td>\n",
       "      <td>Oct</td>\n",
       "      <td>121607</td>\n",
       "      <td>10</td>\n",
       "    </tr>\n",
       "  </tbody>\n",
       "</table>\n",
       "</div>"
      ],
      "text/plain": [
       "    Year Month  Total holdings  Month_Number\n",
       "12  2017   Jun           96620             6\n",
       "13  2017   Jul          102226             7\n",
       "14  2017   Aug          106898             8\n",
       "15  2017   Sep          114658             9\n",
       "16  2017   Oct          121607            10"
      ]
     },
     "execution_count": 5,
     "metadata": {},
     "output_type": "execute_result"
    }
   ],
   "source": [
    "monthly_value = clean_value(portfolio_value)\n",
    "monthly_value['Month_Number']=[dt.datetime.strptime(x, \"%b\") for x in monthly_value['Month']]\n",
    "monthly_value['Month_Number'] = [x.month for x in monthly_value['Month_Number']]\n",
    "monthly_value.head()"
   ]
  },
  {
   "cell_type": "code",
   "execution_count": 6,
   "metadata": {},
   "outputs": [],
   "source": [
    "monthly_value.to_csv(path + 'Monthly_Investments.csv')"
   ]
  },
  {
   "cell_type": "markdown",
   "metadata": {},
   "source": [
    "### Sector wise "
   ]
  },
  {
   "cell_type": "code",
   "execution_count": 7,
   "metadata": {},
   "outputs": [],
   "source": [
    "yearly_sector_value = pd.read_excel(url_2 + 'Portfolio_Breakdown_Information.xlsx',sheet_name='Yearly_Sector_Breakdown')\n",
    "yearly_portfolio = pd.read_excel(url_2 + 'Portfolio_Breakdown_Information.xlsx',sheet_name='Yearly_Portfolio_Value')\n"
   ]
  },
  {
   "cell_type": "code",
   "execution_count": 8,
   "metadata": {},
   "outputs": [
    {
     "data": {
      "text/html": [
       "<div>\n",
       "<style scoped>\n",
       "    .dataframe tbody tr th:only-of-type {\n",
       "        vertical-align: middle;\n",
       "    }\n",
       "\n",
       "    .dataframe tbody tr th {\n",
       "        vertical-align: top;\n",
       "    }\n",
       "\n",
       "    .dataframe thead th {\n",
       "        text-align: right;\n",
       "    }\n",
       "</style>\n",
       "<table border=\"1\" class=\"dataframe\">\n",
       "  <thead>\n",
       "    <tr style=\"text-align: right;\">\n",
       "      <th></th>\n",
       "      <th>YEAR</th>\n",
       "      <th>ECONOMIC_SECTOR</th>\n",
       "      <th>SECTOR_HOLDINGS</th>\n",
       "    </tr>\n",
       "  </thead>\n",
       "  <tbody>\n",
       "    <tr>\n",
       "      <th>0</th>\n",
       "      <td>2017</td>\n",
       "      <td>Automotive and parts</td>\n",
       "      <td>12036.0</td>\n",
       "    </tr>\n",
       "    <tr>\n",
       "      <th>1</th>\n",
       "      <td>2017</td>\n",
       "      <td>Beverages</td>\n",
       "      <td>6018.0</td>\n",
       "    </tr>\n",
       "    <tr>\n",
       "      <th>2</th>\n",
       "      <td>2017</td>\n",
       "      <td>Chemicals</td>\n",
       "      <td>6018.0</td>\n",
       "    </tr>\n",
       "    <tr>\n",
       "      <th>3</th>\n",
       "      <td>2017</td>\n",
       "      <td>Construction &amp; Materials</td>\n",
       "      <td>7222.0</td>\n",
       "    </tr>\n",
       "    <tr>\n",
       "      <th>4</th>\n",
       "      <td>2017</td>\n",
       "      <td>Energy and basic resources</td>\n",
       "      <td>8425.0</td>\n",
       "    </tr>\n",
       "  </tbody>\n",
       "</table>\n",
       "</div>"
      ],
      "text/plain": [
       "   YEAR             ECONOMIC_SECTOR  SECTOR_HOLDINGS\n",
       "0  2017        Automotive and parts          12036.0\n",
       "1  2017                   Beverages           6018.0\n",
       "2  2017                   Chemicals           6018.0\n",
       "3  2017    Construction & Materials           7222.0\n",
       "4  2017  Energy and basic resources           8425.0"
      ]
     },
     "execution_count": 8,
     "metadata": {},
     "output_type": "execute_result"
    }
   ],
   "source": [
    "combined_data = yearly_sector_value.merge(yearly_portfolio,on = \"YEAR\", how =\"left\").drop_duplicates()\n",
    "combined_data['SECTOR_HOLDINGS'] = (combined_data['SECTOR_CSPP_HOLDINGS']*combined_data['TOTAL_HOLDINGS(USD)']).round(0)\n",
    "columns_to_keep = ['YEAR','ECONOMIC_SECTOR','SECTOR_HOLDINGS']\n",
    "sector_data = combined_data[columns_to_keep]\n",
    "sector_data.head()"
   ]
  },
  {
   "cell_type": "markdown",
   "metadata": {},
   "source": [
    "### Country wise"
   ]
  },
  {
   "cell_type": "code",
   "execution_count": 9,
   "metadata": {},
   "outputs": [],
   "source": [
    "yearly_country_value = pd.read_excel(url_2 + 'Portfolio_Breakdown_Information.xlsx',sheet_name='Yearly_Country_Breakdown')\n"
   ]
  },
  {
   "cell_type": "code",
   "execution_count": 10,
   "metadata": {},
   "outputs": [
    {
     "data": {
      "text/html": [
       "<div>\n",
       "<style scoped>\n",
       "    .dataframe tbody tr th:only-of-type {\n",
       "        vertical-align: middle;\n",
       "    }\n",
       "\n",
       "    .dataframe tbody tr th {\n",
       "        vertical-align: top;\n",
       "    }\n",
       "\n",
       "    .dataframe thead th {\n",
       "        text-align: right;\n",
       "    }\n",
       "</style>\n",
       "<table border=\"1\" class=\"dataframe\">\n",
       "  <thead>\n",
       "    <tr style=\"text-align: right;\">\n",
       "      <th></th>\n",
       "      <th>YEAR</th>\n",
       "      <th>RISK_COUNTRY</th>\n",
       "      <th>COUNTRY_HOLDINGS</th>\n",
       "    </tr>\n",
       "  </thead>\n",
       "  <tbody>\n",
       "    <tr>\n",
       "      <th>0</th>\n",
       "      <td>2017</td>\n",
       "      <td>Belgium</td>\n",
       "      <td>6018.0</td>\n",
       "    </tr>\n",
       "    <tr>\n",
       "      <th>1</th>\n",
       "      <td>2017</td>\n",
       "      <td>France</td>\n",
       "      <td>34905.0</td>\n",
       "    </tr>\n",
       "    <tr>\n",
       "      <th>2</th>\n",
       "      <td>2017</td>\n",
       "      <td>Germany</td>\n",
       "      <td>30090.0</td>\n",
       "    </tr>\n",
       "    <tr>\n",
       "      <th>3</th>\n",
       "      <td>2017</td>\n",
       "      <td>Italy</td>\n",
       "      <td>13240.0</td>\n",
       "    </tr>\n",
       "    <tr>\n",
       "      <th>4</th>\n",
       "      <td>2017</td>\n",
       "      <td>Netherlands</td>\n",
       "      <td>7222.0</td>\n",
       "    </tr>\n",
       "  </tbody>\n",
       "</table>\n",
       "</div>"
      ],
      "text/plain": [
       "   YEAR RISK_COUNTRY  COUNTRY_HOLDINGS\n",
       "0  2017      Belgium            6018.0\n",
       "1  2017       France           34905.0\n",
       "2  2017      Germany           30090.0\n",
       "3  2017        Italy           13240.0\n",
       "4  2017  Netherlands            7222.0"
      ]
     },
     "execution_count": 10,
     "metadata": {},
     "output_type": "execute_result"
    }
   ],
   "source": [
    "combined_data = yearly_country_value.merge(yearly_portfolio,on = \"YEAR\", how =\"left\").drop_duplicates()\n",
    "combined_data['COUNTRY_HOLDINGS'] = (combined_data['COUNTRY_CSPP_HOLDINGS']*combined_data['TOTAL_HOLDINGS(USD)']).round(0)\n",
    "columns_to_keep = ['YEAR','RISK_COUNTRY','COUNTRY_HOLDINGS']\n",
    "country_data = combined_data[columns_to_keep]\n",
    "country_data.head()"
   ]
  },
  {
   "cell_type": "code",
   "execution_count": 11,
   "metadata": {},
   "outputs": [],
   "source": [
    "country_data.to_csv(path + 'Country_values.csv',index = None)\n",
    "sector_data.to_csv(path + 'Sector_values.csv',index = None)"
   ]
  },
  {
   "cell_type": "markdown",
   "metadata": {},
   "source": [
    "### Carbon Intensity for individual companies"
   ]
  },
  {
   "cell_type": "code",
   "execution_count": 12,
   "metadata": {},
   "outputs": [],
   "source": [
    "CI_companies = pd.read_csv(path + 'CI_for_companies.csv')\n",
    "master_file = pd.read_excel(directory[:-7] + '2. Data/Master_File.xlsx')"
   ]
  },
  {
   "cell_type": "code",
   "execution_count": 13,
   "metadata": {},
   "outputs": [],
   "source": [
    "# count the number of bonds for every year\n",
    "columns_to_keep = ['ISSUER_NAME','YEAR','ISIN_CODE']\n",
    "file = master_file[columns_to_keep]\n",
    "df = file.groupby(by = ['YEAR','ISSUER_NAME']).count()\n",
    "df = df.reset_index()\n",
    "columns = ['YEAR','ISSUER_NAME','NUMBER_OF_BONDS']\n",
    "df.columns = columns"
   ]
  },
  {
   "cell_type": "code",
   "execution_count": 14,
   "metadata": {},
   "outputs": [],
   "source": [
    "# combine with bonds info with carbon intensity of companies\n",
    "df2 = df.merge(CI_companies, on = 'ISSUER_NAME',how = 'left').drop_duplicates()\n",
    "df2 = df2.dropna()\n"
   ]
  },
  {
   "cell_type": "code",
   "execution_count": 15,
   "metadata": {},
   "outputs": [
    {
     "data": {
      "text/html": [
       "<div>\n",
       "<style scoped>\n",
       "    .dataframe tbody tr th:only-of-type {\n",
       "        vertical-align: middle;\n",
       "    }\n",
       "\n",
       "    .dataframe tbody tr th {\n",
       "        vertical-align: top;\n",
       "    }\n",
       "\n",
       "    .dataframe thead th {\n",
       "        text-align: right;\n",
       "    }\n",
       "</style>\n",
       "<table border=\"1\" class=\"dataframe\">\n",
       "  <thead>\n",
       "    <tr style=\"text-align: right;\">\n",
       "      <th></th>\n",
       "      <th>YEAR</th>\n",
       "      <th>ISSUER_NAME</th>\n",
       "      <th>NUMBER_OF_BONDS</th>\n",
       "      <th>TOTAL__REVENUE</th>\n",
       "      <th>ECONOMIC_SECTOR</th>\n",
       "      <th>TOTAL_GHG: MEAN_INTENSITY</th>\n",
       "      <th>CARBON_INTENSITY</th>\n",
       "    </tr>\n",
       "  </thead>\n",
       "  <tbody>\n",
       "    <tr>\n",
       "      <th>723</th>\n",
       "      <td>2020</td>\n",
       "      <td>CRH Finland Services OYJ</td>\n",
       "      <td>33</td>\n",
       "      <td>2.07</td>\n",
       "      <td>Other sectors</td>\n",
       "      <td>27200000.0</td>\n",
       "      <td>13140096.62</td>\n",
       "    </tr>\n",
       "    <tr>\n",
       "      <th>983</th>\n",
       "      <td>2021</td>\n",
       "      <td>CRH Finland Services OYJ</td>\n",
       "      <td>51</td>\n",
       "      <td>2.07</td>\n",
       "      <td>Other sectors</td>\n",
       "      <td>27200000.0</td>\n",
       "      <td>13140096.62</td>\n",
       "    </tr>\n",
       "    <tr>\n",
       "      <th>1256</th>\n",
       "      <td>2022</td>\n",
       "      <td>CRH Finland Services OYJ</td>\n",
       "      <td>8</td>\n",
       "      <td>2.07</td>\n",
       "      <td>Other sectors</td>\n",
       "      <td>27200000.0</td>\n",
       "      <td>13140096.62</td>\n",
       "    </tr>\n",
       "    <tr>\n",
       "      <th>565</th>\n",
       "      <td>2019</td>\n",
       "      <td>Holcim Finance S.A.</td>\n",
       "      <td>208</td>\n",
       "      <td>103.91</td>\n",
       "      <td>Other sectors</td>\n",
       "      <td>163219755.0</td>\n",
       "      <td>1570780.05</td>\n",
       "    </tr>\n",
       "    <tr>\n",
       "      <th>1066</th>\n",
       "      <td>2021</td>\n",
       "      <td>Holcim Finance S.A.</td>\n",
       "      <td>480</td>\n",
       "      <td>103.91</td>\n",
       "      <td>Other sectors</td>\n",
       "      <td>163219755.0</td>\n",
       "      <td>1570780.05</td>\n",
       "    </tr>\n",
       "  </tbody>\n",
       "</table>\n",
       "</div>"
      ],
      "text/plain": [
       "      YEAR               ISSUER_NAME  NUMBER_OF_BONDS  TOTAL__REVENUE  \\\n",
       "723   2020  CRH Finland Services OYJ               33            2.07   \n",
       "983   2021  CRH Finland Services OYJ               51            2.07   \n",
       "1256  2022  CRH Finland Services OYJ                8            2.07   \n",
       "565   2019       Holcim Finance S.A.              208          103.91   \n",
       "1066  2021       Holcim Finance S.A.              480          103.91   \n",
       "\n",
       "     ECONOMIC_SECTOR  TOTAL_GHG: MEAN_INTENSITY  CARBON_INTENSITY  \n",
       "723    Other sectors                 27200000.0       13140096.62  \n",
       "983    Other sectors                 27200000.0       13140096.62  \n",
       "1256   Other sectors                 27200000.0       13140096.62  \n",
       "565    Other sectors                163219755.0        1570780.05  \n",
       "1066   Other sectors                163219755.0        1570780.05  "
      ]
     },
     "execution_count": 15,
     "metadata": {},
     "output_type": "execute_result"
    }
   ],
   "source": [
    "carbon_intensity_companies = df2.sort_values(by= 'CARBON_INTENSITY',ascending = False)\n",
    "carbon_intensity_companies.head()"
   ]
  },
  {
   "cell_type": "code",
   "execution_count": 16,
   "metadata": {},
   "outputs": [],
   "source": [
    "carbon_intensity_companies.to_csv(path + 'Carbon_Intensity_Companies.csv',index = None)"
   ]
  },
  {
   "cell_type": "markdown",
   "metadata": {},
   "source": [
    "### Bonds distribution per sector"
   ]
  },
  {
   "cell_type": "code",
   "execution_count": 17,
   "metadata": {},
   "outputs": [
    {
     "data": {
      "text/html": [
       "<div>\n",
       "<style scoped>\n",
       "    .dataframe tbody tr th:only-of-type {\n",
       "        vertical-align: middle;\n",
       "    }\n",
       "\n",
       "    .dataframe tbody tr th {\n",
       "        vertical-align: top;\n",
       "    }\n",
       "\n",
       "    .dataframe thead th {\n",
       "        text-align: right;\n",
       "    }\n",
       "</style>\n",
       "<table border=\"1\" class=\"dataframe\">\n",
       "  <thead>\n",
       "    <tr style=\"text-align: right;\">\n",
       "      <th></th>\n",
       "      <th>YEAR</th>\n",
       "      <th>ECONOMIC_SECTOR</th>\n",
       "      <th>NUMBER_OF_BONDS</th>\n",
       "    </tr>\n",
       "  </thead>\n",
       "  <tbody>\n",
       "    <tr>\n",
       "      <th>0</th>\n",
       "      <td>2017</td>\n",
       "      <td>Automotive and parts</td>\n",
       "      <td>28</td>\n",
       "    </tr>\n",
       "    <tr>\n",
       "      <th>1</th>\n",
       "      <td>2017</td>\n",
       "      <td>Beverages</td>\n",
       "      <td>287</td>\n",
       "    </tr>\n",
       "    <tr>\n",
       "      <th>2</th>\n",
       "      <td>2017</td>\n",
       "      <td>Chemicals</td>\n",
       "      <td>571</td>\n",
       "    </tr>\n",
       "    <tr>\n",
       "      <th>3</th>\n",
       "      <td>2017</td>\n",
       "      <td>Construction &amp; Materials</td>\n",
       "      <td>847</td>\n",
       "    </tr>\n",
       "    <tr>\n",
       "      <th>4</th>\n",
       "      <td>2017</td>\n",
       "      <td>Energy and basic resources</td>\n",
       "      <td>1886</td>\n",
       "    </tr>\n",
       "  </tbody>\n",
       "</table>\n",
       "</div>"
      ],
      "text/plain": [
       "   YEAR             ECONOMIC_SECTOR  NUMBER_OF_BONDS\n",
       "0  2017        Automotive and parts               28\n",
       "1  2017                   Beverages              287\n",
       "2  2017                   Chemicals              571\n",
       "3  2017    Construction & Materials              847\n",
       "4  2017  Energy and basic resources             1886"
      ]
     },
     "execution_count": 17,
     "metadata": {},
     "output_type": "execute_result"
    }
   ],
   "source": [
    "# number of bonds in each sector\n",
    "cols = ['YEAR','ECONOMIC_SECTOR','ISIN_CODE']\n",
    "file2 = master_file[cols]\n",
    "\n",
    "df2 = file2.groupby(['YEAR','ECONOMIC_SECTOR']).count()\n",
    "df2 = df2.reset_index()\n",
    "columns = ['YEAR','ECONOMIC_SECTOR','NUMBER_OF_BONDS']\n",
    "df2.columns = columns\n",
    "df2.head()"
   ]
  },
  {
   "cell_type": "code",
   "execution_count": 18,
   "metadata": {},
   "outputs": [],
   "source": [
    "df2.to_csv(path + 'Bonds_sectorwise.csv',index=None)"
   ]
  },
  {
   "cell_type": "markdown",
   "metadata": {},
   "source": [
    "### Bonds distribution per country"
   ]
  },
  {
   "cell_type": "code",
   "execution_count": 19,
   "metadata": {},
   "outputs": [],
   "source": [
    "file3 = risk_country(master_file)"
   ]
  },
  {
   "cell_type": "code",
   "execution_count": 20,
   "metadata": {},
   "outputs": [
    {
     "data": {
      "text/html": [
       "<div>\n",
       "<style scoped>\n",
       "    .dataframe tbody tr th:only-of-type {\n",
       "        vertical-align: middle;\n",
       "    }\n",
       "\n",
       "    .dataframe tbody tr th {\n",
       "        vertical-align: top;\n",
       "    }\n",
       "\n",
       "    .dataframe thead th {\n",
       "        text-align: right;\n",
       "    }\n",
       "</style>\n",
       "<table border=\"1\" class=\"dataframe\">\n",
       "  <thead>\n",
       "    <tr style=\"text-align: right;\">\n",
       "      <th></th>\n",
       "      <th>YEAR</th>\n",
       "      <th>RISK_COUNTRY</th>\n",
       "      <th>NUMBER_OF_BONDS</th>\n",
       "    </tr>\n",
       "  </thead>\n",
       "  <tbody>\n",
       "    <tr>\n",
       "      <th>0</th>\n",
       "      <td>2017</td>\n",
       "      <td>Belgium</td>\n",
       "      <td>1089</td>\n",
       "    </tr>\n",
       "    <tr>\n",
       "      <th>1</th>\n",
       "      <td>2017</td>\n",
       "      <td>France</td>\n",
       "      <td>7394</td>\n",
       "    </tr>\n",
       "    <tr>\n",
       "      <th>2</th>\n",
       "      <td>2017</td>\n",
       "      <td>Germany</td>\n",
       "      <td>2803</td>\n",
       "    </tr>\n",
       "    <tr>\n",
       "      <th>3</th>\n",
       "      <td>2017</td>\n",
       "      <td>Italy</td>\n",
       "      <td>3123</td>\n",
       "    </tr>\n",
       "    <tr>\n",
       "      <th>4</th>\n",
       "      <td>2017</td>\n",
       "      <td>Netherlands</td>\n",
       "      <td>6097</td>\n",
       "    </tr>\n",
       "  </tbody>\n",
       "</table>\n",
       "</div>"
      ],
      "text/plain": [
       "   YEAR RISK_COUNTRY  NUMBER_OF_BONDS\n",
       "0  2017      Belgium             1089\n",
       "1  2017       France             7394\n",
       "2  2017      Germany             2803\n",
       "3  2017        Italy             3123\n",
       "4  2017  Netherlands             6097"
      ]
     },
     "execution_count": 20,
     "metadata": {},
     "output_type": "execute_result"
    }
   ],
   "source": [
    "cols = ['YEAR','RISK_COUNTRY','ISIN_CODE']\n",
    "file3 = file3[cols]\n",
    "\n",
    "df3 = file3.groupby(['YEAR','RISK_COUNTRY']).count()\n",
    "df3 = df3.reset_index()\n",
    "columns = ['YEAR','RISK_COUNTRY','NUMBER_OF_BONDS']\n",
    "df3.columns = columns\n",
    "df3.head()\n"
   ]
  },
  {
   "cell_type": "code",
   "execution_count": 21,
   "metadata": {},
   "outputs": [],
   "source": [
    "df3.to_csv(path + 'Bonds_countrywise.csv',index = None)"
   ]
  }
 ],
 "metadata": {
  "kernelspec": {
   "display_name": "Python 3",
   "language": "python",
   "name": "python3"
  },
  "language_info": {
   "codemirror_mode": {
    "name": "ipython",
    "version": 3
   },
   "file_extension": ".py",
   "mimetype": "text/x-python",
   "name": "python",
   "nbconvert_exporter": "python",
   "pygments_lexer": "ipython3",
   "version": "3.8.5"
  }
 },
 "nbformat": 4,
 "nbformat_minor": 5
}
