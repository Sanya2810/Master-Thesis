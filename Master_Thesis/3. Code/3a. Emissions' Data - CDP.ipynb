{
 "cells": [
  {
   "cell_type": "markdown",
   "metadata": {},
   "source": [
    "## CDP Emissions Data, 2017"
   ]
  },
  {
   "cell_type": "markdown",
   "metadata": {},
   "source": [
    "<p>The Scope 1 and Scope 2 emissions data is collected from CDP for year 2017. The gross global year emissions were used because they correspond to the recent reported year. Location-based Scope 2 emissions were used because they are lots of issues with market-based method. </p>"
   ]
  },
  {
   "cell_type": "markdown",
   "metadata": {},
   "source": [
    "### Libraries to import"
   ]
  },
  {
   "cell_type": "code",
   "execution_count": 1,
   "metadata": {},
   "outputs": [],
   "source": [
    "import pandas as pd\n",
    "import os\n",
    "from functions_file_3 import clean_scope1, clean_scope2, finalizedata"
   ]
  },
  {
   "cell_type": "code",
   "execution_count": 2,
   "metadata": {},
   "outputs": [],
   "source": [
    "directory = os.getcwd()\n",
    "url = directory[:-7] + \"2. Data/3. Emissions Data - CDP/GHG_Emissions_Data - CDP/\""
   ]
  },
  {
   "cell_type": "markdown",
   "metadata": {},
   "source": [
    "### Import Datasets"
   ]
  },
  {
   "cell_type": "code",
   "execution_count": 3,
   "metadata": {},
   "outputs": [],
   "source": [
    "# Company information in the CDP data\n",
    "company_info = pd.read_excel(url + \"Investor CDP 2017_Public Data (with sector Qs).xlsx\", sheet_name = \"Summary Data\")"
   ]
  },
  {
   "cell_type": "code",
   "execution_count": 4,
   "metadata": {},
   "outputs": [],
   "source": [
    "# Gross Global Scope 1 and Scope 2 emissions\n",
    "emissions_scope1 = pd.read_excel(url + \"Investor CDP 2017_Public Data (with sector Qs).xlsx\", sheet_name = \"CC8. Emissions Data\",skiprows = 1,header = None)\n",
    "emissions_scope2 = pd.read_excel(url + \"Investor CDP 2017_Public Data (with sector Qs).xlsx\", sheet_name = \"CC8.3a\",skiprows = 2, header = None)\n"
   ]
  },
  {
   "cell_type": "markdown",
   "metadata": {},
   "source": [
    "### Preprocessing"
   ]
  },
  {
   "cell_type": "code",
   "execution_count": 5,
   "metadata": {},
   "outputs": [],
   "source": [
    "info_data = company_info[['account_id','account_name','isin']]\n",
    "columns = ['ACCOUNT_ID','ACCOUNT_NAME','ISIN']\n",
    "info_data.columns = columns "
   ]
  },
  {
   "cell_type": "code",
   "execution_count": 6,
   "metadata": {},
   "outputs": [],
   "source": [
    "scope1_data = clean_scope1(emissions_scope1)\n",
    "scope2_data = clean_scope2(emissions_scope2)"
   ]
  },
  {
   "cell_type": "markdown",
   "metadata": {},
   "source": [
    "### Emissions Data for CDP companies"
   ]
  },
  {
   "cell_type": "code",
   "execution_count": 7,
   "metadata": {},
   "outputs": [
    {
     "data": {
      "text/html": [
       "<div>\n",
       "<style scoped>\n",
       "    .dataframe tbody tr th:only-of-type {\n",
       "        vertical-align: middle;\n",
       "    }\n",
       "\n",
       "    .dataframe tbody tr th {\n",
       "        vertical-align: top;\n",
       "    }\n",
       "\n",
       "    .dataframe thead th {\n",
       "        text-align: right;\n",
       "    }\n",
       "</style>\n",
       "<table border=\"1\" class=\"dataframe\">\n",
       "  <thead>\n",
       "    <tr style=\"text-align: right;\">\n",
       "      <th></th>\n",
       "      <th>ACCOUNT_ID</th>\n",
       "      <th>ACCOUNT_NAME</th>\n",
       "      <th>ISIN</th>\n",
       "      <th>ACCOUNTING_YEAR</th>\n",
       "      <th>GLOBAL_SCOPE1</th>\n",
       "      <th>GLOBAL_SCOPE2: LOCATION-BASED</th>\n",
       "      <th>GLOBAL_SCOPE2: MARKET-BASED</th>\n",
       "    </tr>\n",
       "  </thead>\n",
       "  <tbody>\n",
       "    <tr>\n",
       "      <th>0</th>\n",
       "      <td>44</td>\n",
       "      <td>3i Group</td>\n",
       "      <td>GB00B1YW4409</td>\n",
       "      <td>2017</td>\n",
       "      <td>191.0</td>\n",
       "      <td>0.0</td>\n",
       "      <td>0.0</td>\n",
       "    </tr>\n",
       "    <tr>\n",
       "      <th>1</th>\n",
       "      <td>285</td>\n",
       "      <td>3M Company</td>\n",
       "      <td>US88579Y1010</td>\n",
       "      <td>2016</td>\n",
       "      <td>4140000.0</td>\n",
       "      <td>1840000.0</td>\n",
       "      <td>1780000.0</td>\n",
       "    </tr>\n",
       "    <tr>\n",
       "      <th>2</th>\n",
       "      <td>59909</td>\n",
       "      <td>A Schulman Inc</td>\n",
       "      <td>US8081941044</td>\n",
       "      <td>2016</td>\n",
       "      <td>0.0</td>\n",
       "      <td>96.0</td>\n",
       "      <td>0.0</td>\n",
       "    </tr>\n",
       "    <tr>\n",
       "      <th>3</th>\n",
       "      <td>1535</td>\n",
       "      <td>A.G. Barr Plc</td>\n",
       "      <td>GB00B6XZKY75</td>\n",
       "      <td>2017</td>\n",
       "      <td>5420.0</td>\n",
       "      <td>8947.0</td>\n",
       "      <td>0.0</td>\n",
       "    </tr>\n",
       "    <tr>\n",
       "      <th>4</th>\n",
       "      <td>276</td>\n",
       "      <td>A.P. Moller - Maersk</td>\n",
       "      <td>DK0010244425</td>\n",
       "      <td>2016</td>\n",
       "      <td>35917000.0</td>\n",
       "      <td>252000.0</td>\n",
       "      <td>0.0</td>\n",
       "    </tr>\n",
       "  </tbody>\n",
       "</table>\n",
       "</div>"
      ],
      "text/plain": [
       "   ACCOUNT_ID          ACCOUNT_NAME          ISIN  ACCOUNTING_YEAR  \\\n",
       "0          44              3i Group  GB00B1YW4409             2017   \n",
       "1         285            3M Company  US88579Y1010             2016   \n",
       "2       59909        A Schulman Inc  US8081941044             2016   \n",
       "3        1535         A.G. Barr Plc  GB00B6XZKY75             2017   \n",
       "4         276  A.P. Moller - Maersk  DK0010244425             2016   \n",
       "\n",
       "   GLOBAL_SCOPE1  GLOBAL_SCOPE2: LOCATION-BASED  GLOBAL_SCOPE2: MARKET-BASED  \n",
       "0          191.0                            0.0                          0.0  \n",
       "1      4140000.0                      1840000.0                    1780000.0  \n",
       "2            0.0                           96.0                          0.0  \n",
       "3         5420.0                         8947.0                          0.0  \n",
       "4     35917000.0                       252000.0                          0.0  "
      ]
     },
     "execution_count": 7,
     "metadata": {},
     "output_type": "execute_result"
    }
   ],
   "source": [
    "emissions_data = finalizedata(info_data, scope1_data,scope2_data)\n",
    "emissions_data.head()"
   ]
  },
  {
   "cell_type": "markdown",
   "metadata": {},
   "source": [
    "### Download file"
   ]
  },
  {
   "cell_type": "code",
   "execution_count": 8,
   "metadata": {},
   "outputs": [],
   "source": [
    "emissions_data.to_excel(directory[:-7] + \"2. Data/3. Emissions Data - CDP/Emissions_Data.xlsx\",index = None)"
   ]
  }
 ],
 "metadata": {
  "kernelspec": {
   "display_name": "Python 3",
   "language": "python",
   "name": "python3"
  },
  "language_info": {
   "codemirror_mode": {
    "name": "ipython",
    "version": 3
   },
   "file_extension": ".py",
   "mimetype": "text/x-python",
   "name": "python",
   "nbconvert_exporter": "python",
   "pygments_lexer": "ipython3",
   "version": "3.8.5"
  }
 },
 "nbformat": 4,
 "nbformat_minor": 4
}
