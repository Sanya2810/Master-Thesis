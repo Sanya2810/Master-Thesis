{
 "cells": [
  {
   "cell_type": "markdown",
   "metadata": {},
   "source": [
    "## CSPP holdings: Portfolio Data"
   ]
  },
  {
   "cell_type": "markdown",
   "metadata": {},
   "source": [
    "<p>The ECB publishes list of securities held by it under CSPP on weekly basis. For this research, we are downloading the data for corporate bonds holdings as of Feburary 28, 2022.</p>\n",
    "\n",
    "<p> <em>Chrome version requirement: 100.0.4896.127 </em></p>\n",
    "<p> <em>Empty the folder \"ECB Data\" (2. Data --> 1. ECB data) before running the code. </em></p>"
   ]
  },
  {
   "cell_type": "markdown",
   "metadata": {},
   "source": [
    "### Import libraries"
   ]
  },
  {
   "cell_type": "code",
   "execution_count": 1,
   "metadata": {},
   "outputs": [],
   "source": [
    "from selenium.webdriver.chrome.options import Options\n",
    "from selenium import webdriver\n",
    "from selenium.webdriver.support.ui import WebDriverWait\n",
    "from selenium.webdriver.common.by import By\n",
    "from selenium.webdriver.support import expected_conditions as EC\n",
    "import warnings\n",
    "warnings.filterwarnings(\"ignore\", category=DeprecationWarning) \n",
    "from selenium.webdriver.common.action_chains import ActionChains\n",
    "import time\n",
    "from selenium.webdriver.common.keys import Keys\n",
    "import datetime\n",
    "from selenium.common.exceptions import NoSuchElementException\n",
    "import os\n",
    "from functions_file_1 import download_data"
   ]
  },
  {
   "cell_type": "markdown",
   "metadata": {},
   "source": [
    "### Load the website"
   ]
  },
  {
   "cell_type": "code",
   "execution_count": 2,
   "metadata": {},
   "outputs": [],
   "source": [
    "directory = os.getcwd()\n",
    "# specify the fields to load the website\n",
    "url = \"https://www.ecb.europa.eu/mopo/implement/app/html/index.en.html#cspp\"\n",
    "driver_path = directory + '/chromedriver'\n",
    "download_path = directory[:-7] + \"2. Data/1. ECB Data/Downloaded_Data - Web Scrapping\""
   ]
  },
  {
   "cell_type": "code",
   "execution_count": 3,
   "metadata": {},
   "outputs": [],
   "source": [
    "options = Options()\n",
    "preferences = {\"profile.default_content_settings.popups\": 0,\n",
    "                \"download.default_directory\": download_path ,\n",
    "                \"directory_upgrade\": True}\n",
    "options.add_experimental_option('prefs', preferences)\n",
    "driver = webdriver.Chrome(options=options, executable_path=driver_path)\n",
    "driver.maximize_window()\n",
    "driver.get(url)\n",
    "time.sleep(2)\n",
    "driver.find_element(By.XPATH,\"//*[@id='cookieConsent']/div[1]/div/a[2]\").click()\n",
    "time.sleep(2)"
   ]
  },
  {
   "cell_type": "markdown",
   "metadata": {},
   "source": [
    "### Selection of elements"
   ]
  },
  {
   "cell_type": "code",
   "execution_count": 4,
   "metadata": {},
   "outputs": [],
   "source": [
    "x = driver.find_element(By.XPATH,\"//*[@id='main-wrapper']/main/div[7]/div[1]/div\")\n",
    "build = ActionChains(driver)\n",
    "build.move_to_element(x).perform()\n",
    "time.sleep(2)\n",
    "x2 = driver.find_element(By.XPATH,\"//*[@id='main-wrapper']/main/div[7]/div[1]/div\")\n",
    "x2.click()\n",
    "time.sleep(2)\n",
    "content_box = driver.find_element(By.XPATH,\"//*[@id='main-wrapper']/main/div[7]/div[2]\")\n",
    "WebDriverWait(driver, 2).until(EC.element_to_be_clickable,content_box)\n",
    "driver.execute_script(\"arguments[0].click();arguments[0].style.visibility = 'visible';arguments[0].style.display = 'block';\",content_box)\n"
   ]
  },
  {
   "cell_type": "markdown",
   "metadata": {},
   "source": [
    "### Download data"
   ]
  },
  {
   "cell_type": "markdown",
   "metadata": {},
   "source": [
    "<p>Data from inception till Feburary 28, 2022</p>"
   ]
  },
  {
   "cell_type": "code",
   "execution_count": 5,
   "metadata": {},
   "outputs": [],
   "source": [
    "current_date = datetime.datetime.today()\n",
    "end_date = datetime.datetime(2022,2,25) # fixed data till Feburary\n",
    "start_date = datetime.datetime(2017,6,23)\n",
    "n = (current_date. year -end_date.year) * 12 + (current_date. month - end_date. month)\n",
    "if n > 0:\n",
    "    for i in range(n):\n",
    "        prev_arrow = driver.find_element(By.CLASS_NAME,'ui-datepicker-prev.ui-corner-all')\n",
    "        WebDriverWait(driver, 10).until(EC.element_to_be_clickable,prev_arrow)\n",
    "        driver.execute_script(\"arguments[0].click();arguments[0].style.visibility = 'visible';arguments[0].style.display = 'block';\",prev_arrow)\n",
    "\n",
    "# number_of_times_prev_arrow_to_be_clicked\n",
    "num_months = (end_date. year - start_date.year) * 12 + (end_date. month - start_date. month)\n",
    "    "
   ]
  },
  {
   "cell_type": "code",
   "execution_count": 6,
   "metadata": {},
   "outputs": [
    {
     "name": "stdout",
     "output_type": "stream",
     "text": [
      "No Data found for December 24,2021\n"
     ]
    }
   ],
   "source": [
    "# for current month\n",
    "for x in range(6):\n",
    "    try:\n",
    "        download_data(driver,x)\n",
    "    except NoSuchElementException:\n",
    "        pass\n",
    "\n",
    "for i in range(num_months):\n",
    "    prev_arrow = driver.find_element(By.CLASS_NAME,'ui-datepicker-prev.ui-corner-all')\n",
    "    WebDriverWait(driver, 10).until(EC.element_to_be_clickable,prev_arrow)\n",
    "    driver.execute_script(\"arguments[0].click();arguments[0].style.visibility = 'visible';arguments[0].style.display = 'block';\",prev_arrow)\n",
    "    for x in range(6):\n",
    "        try:\n",
    "            year = driver.find_element(By.CLASS_NAME,'ui-datepicker-year')\n",
    "            month = driver.find_element(By.CLASS_NAME, 'ui-datepicker-month')\n",
    "            if month.get_attribute('value')=='11' and x == 4 and year.get_attribute('value') == '2021':\n",
    "                        print(\"No Data found for December 24,2021\") \n",
    "            else: \n",
    "                download_data(driver, x)\n",
    "            \n",
    "        except NoSuchElementException:\n",
    "            pass"
   ]
  }
 ],
 "metadata": {
  "kernelspec": {
   "display_name": "Python 3 (ipykernel)",
   "language": "python",
   "name": "python3"
  },
  "language_info": {
   "codemirror_mode": {
    "name": "ipython",
    "version": 3
   },
   "file_extension": ".py",
   "mimetype": "text/x-python",
   "name": "python",
   "nbconvert_exporter": "python",
   "pygments_lexer": "ipython3",
   "version": "3.8.13"
  }
 },
 "nbformat": 4,
 "nbformat_minor": 4
}
