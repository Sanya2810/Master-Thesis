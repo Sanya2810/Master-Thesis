{
 "cells": [
  {
   "cell_type": "markdown",
   "metadata": {},
   "source": [
    "## Emission Intensity & Final Database"
   ]
  },
  {
   "cell_type": "markdown",
   "metadata": {},
   "source": [
    "<p>The ECB portfolio is mapped with the CDP emissions data. However, out of 294 companies, 112 companies' emissions were not available in the data. To solve this, emission intensity was calculated based on the sector in proportion to the revenue of the companies. </p>"
   ]
  },
  {
   "cell_type": "markdown",
   "metadata": {},
   "source": [
    "### Libraries to import"
   ]
  },
  {
   "cell_type": "code",
   "execution_count": 1,
   "metadata": {},
   "outputs": [],
   "source": [
    "import pandas as pd\n",
    "import os\n",
    "import warnings\n",
    "warnings.filterwarnings(\"ignore\")\n",
    "from functions_file_3 import match_data,match_emissions,match_emissions_cdp,intensity,emissions_portfolio\n",
    "pd.options.display.float_format = '{:.2f}'.format"
   ]
  },
  {
   "cell_type": "code",
   "execution_count": 2,
   "metadata": {},
   "outputs": [],
   "source": [
    "directory = os.getcwd()\n",
    "url = directory[:-7] + '2. Data/'"
   ]
  },
  {
   "cell_type": "markdown",
   "metadata": {},
   "source": [
    "### Import datasets"
   ]
  },
  {
   "cell_type": "code",
   "execution_count": 3,
   "metadata": {},
   "outputs": [],
   "source": [
    "# import ECB portfolio with all company information\n",
    "portfolio = pd.read_excel(url + 'ECB Portfolio - Company Information.xlsx')\n",
    "\n",
    "# emissions data\n",
    "emissions_data = pd.read_excel(url + '3. Emissions Data - CDP/Emissions_Data.xlsx')"
   ]
  },
  {
   "cell_type": "code",
   "execution_count": 4,
   "metadata": {},
   "outputs": [],
   "source": [
    "# import mappings to calculate emission intensity\n",
    "dictionary_for_cdp = pd.read_excel(url + '3. Emissions Data - CDP/Emissions_Mapping.xlsx',sheet_name = 'Dictionary_for_CDP',skiprows=4)\n",
    "cdp_companies = pd.read_excel(url + '3. Emissions Data - CDP/Emissions_Mapping.xlsx',sheet_name = 'CDP_Companies',skiprows = 4,usecols=\"A:G\")\n"
   ]
  },
  {
   "cell_type": "markdown",
   "metadata": {},
   "source": [
    "### Companies matched with CDP emissions data"
   ]
  },
  {
   "cell_type": "code",
   "execution_count": 5,
   "metadata": {},
   "outputs": [],
   "source": [
    "matched_data, unmatched_data = match_data(portfolio,dictionary_for_cdp)"
   ]
  },
  {
   "cell_type": "code",
   "execution_count": 6,
   "metadata": {},
   "outputs": [],
   "source": [
    "matched_emissions = match_emissions(matched_data,emissions_data)"
   ]
  },
  {
   "cell_type": "code",
   "execution_count": 7,
   "metadata": {},
   "outputs": [
    {
     "data": {
      "text/html": [
       "<div>\n",
       "<style scoped>\n",
       "    .dataframe tbody tr th:only-of-type {\n",
       "        vertical-align: middle;\n",
       "    }\n",
       "\n",
       "    .dataframe tbody tr th {\n",
       "        vertical-align: top;\n",
       "    }\n",
       "\n",
       "    .dataframe thead th {\n",
       "        text-align: right;\n",
       "    }\n",
       "</style>\n",
       "<table border=\"1\" class=\"dataframe\">\n",
       "  <thead>\n",
       "    <tr style=\"text-align: right;\">\n",
       "      <th></th>\n",
       "      <th>ISSUER_NAME</th>\n",
       "      <th>ACCOUNT_ID</th>\n",
       "      <th>GLOBAL_SCOPE1</th>\n",
       "      <th>GLOBAL_SCOPE2: LOCATION-BASED</th>\n",
       "      <th>GLOBAL_SCOPE2: MARKET-BASED</th>\n",
       "      <th>TOTAL_GHG</th>\n",
       "    </tr>\n",
       "  </thead>\n",
       "  <tbody>\n",
       "    <tr>\n",
       "      <th>0</th>\n",
       "      <td>Delhaize Group S.A.</td>\n",
       "      <td>21338</td>\n",
       "      <td>1940000.00</td>\n",
       "      <td>2420000.00</td>\n",
       "      <td>0.00</td>\n",
       "      <td>4360000.00</td>\n",
       "    </tr>\n",
       "    <tr>\n",
       "      <th>1</th>\n",
       "      <td>Cofinimmo S.A./N.V.</td>\n",
       "      <td>31355</td>\n",
       "      <td>87.00</td>\n",
       "      <td>226.00</td>\n",
       "      <td>0.00</td>\n",
       "      <td>313.00</td>\n",
       "    </tr>\n",
       "    <tr>\n",
       "      <th>2</th>\n",
       "      <td>BEFIMMO SA</td>\n",
       "      <td>31360</td>\n",
       "      <td>265.02</td>\n",
       "      <td>42.15</td>\n",
       "      <td>0.00</td>\n",
       "      <td>307.17</td>\n",
       "    </tr>\n",
       "    <tr>\n",
       "      <th>3</th>\n",
       "      <td>Solvay S.A.</td>\n",
       "      <td>17296</td>\n",
       "      <td>10883951.00</td>\n",
       "      <td>2320421.00</td>\n",
       "      <td>2492389.00</td>\n",
       "      <td>13204372.00</td>\n",
       "    </tr>\n",
       "    <tr>\n",
       "      <th>4</th>\n",
       "      <td>Anheuser-Busch InBev S.A./N.V.</td>\n",
       "      <td>22350</td>\n",
       "      <td>2976744.00</td>\n",
       "      <td>1704692.00</td>\n",
       "      <td>0.00</td>\n",
       "      <td>4681436.00</td>\n",
       "    </tr>\n",
       "  </tbody>\n",
       "</table>\n",
       "</div>"
      ],
      "text/plain": [
       "                      ISSUER_NAME  ACCOUNT_ID  GLOBAL_SCOPE1  \\\n",
       "0             Delhaize Group S.A.       21338     1940000.00   \n",
       "1             Cofinimmo S.A./N.V.       31355          87.00   \n",
       "2                      BEFIMMO SA       31360         265.02   \n",
       "3                     Solvay S.A.       17296    10883951.00   \n",
       "4  Anheuser-Busch InBev S.A./N.V.       22350     2976744.00   \n",
       "\n",
       "   GLOBAL_SCOPE2: LOCATION-BASED  GLOBAL_SCOPE2: MARKET-BASED   TOTAL_GHG  \n",
       "0                     2420000.00                         0.00  4360000.00  \n",
       "1                         226.00                         0.00      313.00  \n",
       "2                          42.15                         0.00      307.17  \n",
       "3                     2320421.00                   2492389.00 13204372.00  \n",
       "4                     1704692.00                         0.00  4681436.00  "
      ]
     },
     "execution_count": 7,
     "metadata": {},
     "output_type": "execute_result"
    }
   ],
   "source": [
    "matched_emissions.head()"
   ]
  },
  {
   "cell_type": "markdown",
   "metadata": {},
   "source": [
    "### Emission Intensity based on NACE sector code"
   ]
  },
  {
   "cell_type": "code",
   "execution_count": 8,
   "metadata": {},
   "outputs": [],
   "source": [
    "# merge emissions data with companies in CDP data\n",
    "cdp_emissions = match_emissions_cdp(cdp_companies,emissions_data)"
   ]
  },
  {
   "cell_type": "code",
   "execution_count": 9,
   "metadata": {},
   "outputs": [],
   "source": [
    "# calculate emissions intensity based on NACE code of sectors\n",
    "emission_intensity = intensity(cdp_emissions)"
   ]
  },
  {
   "cell_type": "markdown",
   "metadata": {},
   "source": [
    "### Companies unmatched with CDP emissions data"
   ]
  },
  {
   "cell_type": "code",
   "execution_count": 10,
   "metadata": {},
   "outputs": [],
   "source": [
    "# unmatched data with emission intensity\n",
    "data = unmatched_data.merge(emission_intensity, on = \"NACE_CODE\", how = \"left\")"
   ]
  },
  {
   "cell_type": "markdown",
   "metadata": {},
   "source": [
    "### ECB Portfolio with emissions data"
   ]
  },
  {
   "cell_type": "code",
   "execution_count": 11,
   "metadata": {},
   "outputs": [
    {
     "data": {
      "text/html": [
       "<div>\n",
       "<style scoped>\n",
       "    .dataframe tbody tr th:only-of-type {\n",
       "        vertical-align: middle;\n",
       "    }\n",
       "\n",
       "    .dataframe tbody tr th {\n",
       "        vertical-align: top;\n",
       "    }\n",
       "\n",
       "    .dataframe thead th {\n",
       "        text-align: right;\n",
       "    }\n",
       "</style>\n",
       "<table border=\"1\" class=\"dataframe\">\n",
       "  <thead>\n",
       "    <tr style=\"text-align: right;\">\n",
       "      <th></th>\n",
       "      <th>NCB</th>\n",
       "      <th>ISIN_CODE</th>\n",
       "      <th>ISSUER_NAME</th>\n",
       "      <th>MATURITY_DATE</th>\n",
       "      <th>COUPON_RATE</th>\n",
       "      <th>PUBLISHED_DATE</th>\n",
       "      <th>YEAR</th>\n",
       "      <th>MONTH</th>\n",
       "      <th>TOTAL__REVENUE</th>\n",
       "      <th>SIC_CODE</th>\n",
       "      <th>NACE_CODE</th>\n",
       "      <th>ECONOMIC_SECTOR</th>\n",
       "      <th>QUARTER</th>\n",
       "      <th>COUNTRY_OF_RISK</th>\n",
       "      <th>TOTAL_GHG: MEAN_INTENSITY</th>\n",
       "      <th>TOTAL_GHG: MEDIAN_INTENSITY</th>\n",
       "    </tr>\n",
       "  </thead>\n",
       "  <tbody>\n",
       "    <tr>\n",
       "      <th>0</th>\n",
       "      <td>BE</td>\n",
       "      <td>BE0002178441</td>\n",
       "      <td>Delhaize Group S.A.</td>\n",
       "      <td>19/10/2018</td>\n",
       "      <td>4.25</td>\n",
       "      <td>2018-06-08</td>\n",
       "      <td>2018</td>\n",
       "      <td>6</td>\n",
       "      <td>71057.21</td>\n",
       "      <td>5411</td>\n",
       "      <td>G</td>\n",
       "      <td>Beverages</td>\n",
       "      <td>2018Q2</td>\n",
       "      <td>Belgium</td>\n",
       "      <td>4360000.00</td>\n",
       "      <td>4360000.00</td>\n",
       "    </tr>\n",
       "    <tr>\n",
       "      <th>1</th>\n",
       "      <td>BE</td>\n",
       "      <td>BE0002189554</td>\n",
       "      <td>Delhaize Group S.A.</td>\n",
       "      <td>27/02/2020</td>\n",
       "      <td>3.125</td>\n",
       "      <td>2018-06-08</td>\n",
       "      <td>2018</td>\n",
       "      <td>6</td>\n",
       "      <td>71057.21</td>\n",
       "      <td>5411</td>\n",
       "      <td>G</td>\n",
       "      <td>Beverages</td>\n",
       "      <td>2018Q2</td>\n",
       "      <td>Belgium</td>\n",
       "      <td>4360000.00</td>\n",
       "      <td>4360000.00</td>\n",
       "    </tr>\n",
       "    <tr>\n",
       "      <th>2</th>\n",
       "      <td>BE</td>\n",
       "      <td>BE0002256254</td>\n",
       "      <td>RESA SA</td>\n",
       "      <td>22/07/2026</td>\n",
       "      <td>1</td>\n",
       "      <td>2018-06-08</td>\n",
       "      <td>2018</td>\n",
       "      <td>6</td>\n",
       "      <td>393.06</td>\n",
       "      <td>4931</td>\n",
       "      <td>D</td>\n",
       "      <td>Utilities</td>\n",
       "      <td>2018Q2</td>\n",
       "      <td>Belgium</td>\n",
       "      <td>1143478.36</td>\n",
       "      <td>430738.73</td>\n",
       "    </tr>\n",
       "    <tr>\n",
       "      <th>3</th>\n",
       "      <td>BE</td>\n",
       "      <td>BE0002269380</td>\n",
       "      <td>Cofinimmo S.A./N.V.</td>\n",
       "      <td>09/12/2024</td>\n",
       "      <td>2</td>\n",
       "      <td>2018-06-08</td>\n",
       "      <td>2018</td>\n",
       "      <td>6</td>\n",
       "      <td>297.38</td>\n",
       "      <td>6531</td>\n",
       "      <td>L</td>\n",
       "      <td>Real estate</td>\n",
       "      <td>2018Q2</td>\n",
       "      <td>Belgium</td>\n",
       "      <td>313.00</td>\n",
       "      <td>313.00</td>\n",
       "    </tr>\n",
       "    <tr>\n",
       "      <th>4</th>\n",
       "      <td>BE</td>\n",
       "      <td>BE0002276450</td>\n",
       "      <td>Elia Transmission Belgium</td>\n",
       "      <td>07/04/2027</td>\n",
       "      <td>1.375</td>\n",
       "      <td>2018-06-08</td>\n",
       "      <td>2018</td>\n",
       "      <td>6</td>\n",
       "      <td>913.16</td>\n",
       "      <td>4911</td>\n",
       "      <td>D</td>\n",
       "      <td>Utilities</td>\n",
       "      <td>2018Q2</td>\n",
       "      <td>Belgium</td>\n",
       "      <td>2656537.68</td>\n",
       "      <td>1000695.52</td>\n",
       "    </tr>\n",
       "  </tbody>\n",
       "</table>\n",
       "</div>"
      ],
      "text/plain": [
       "  NCB     ISIN_CODE                ISSUER_NAME MATURITY_DATE COUPON_RATE  \\\n",
       "0  BE  BE0002178441        Delhaize Group S.A.    19/10/2018        4.25   \n",
       "1  BE  BE0002189554        Delhaize Group S.A.    27/02/2020       3.125   \n",
       "2  BE  BE0002256254                    RESA SA    22/07/2026           1   \n",
       "3  BE  BE0002269380        Cofinimmo S.A./N.V.    09/12/2024           2   \n",
       "4  BE  BE0002276450  Elia Transmission Belgium    07/04/2027       1.375   \n",
       "\n",
       "  PUBLISHED_DATE  YEAR  MONTH  TOTAL__REVENUE  SIC_CODE NACE_CODE  \\\n",
       "0     2018-06-08  2018      6        71057.21      5411         G   \n",
       "1     2018-06-08  2018      6        71057.21      5411         G   \n",
       "2     2018-06-08  2018      6          393.06      4931         D   \n",
       "3     2018-06-08  2018      6          297.38      6531         L   \n",
       "4     2018-06-08  2018      6          913.16      4911         D   \n",
       "\n",
       "  ECONOMIC_SECTOR QUARTER COUNTRY_OF_RISK  TOTAL_GHG: MEAN_INTENSITY  \\\n",
       "0       Beverages  2018Q2         Belgium                 4360000.00   \n",
       "1       Beverages  2018Q2         Belgium                 4360000.00   \n",
       "2       Utilities  2018Q2         Belgium                 1143478.36   \n",
       "3     Real estate  2018Q2         Belgium                     313.00   \n",
       "4       Utilities  2018Q2         Belgium                 2656537.68   \n",
       "\n",
       "   TOTAL_GHG: MEDIAN_INTENSITY  \n",
       "0                   4360000.00  \n",
       "1                   4360000.00  \n",
       "2                    430738.73  \n",
       "3                       313.00  \n",
       "4                   1000695.52  "
      ]
     },
     "execution_count": 11,
     "metadata": {},
     "output_type": "execute_result"
    }
   ],
   "source": [
    "final_data = emissions_portfolio(portfolio, matched_emissions,data)\n",
    "final_data.head()"
   ]
  },
  {
   "cell_type": "markdown",
   "metadata": {},
   "source": [
    "### Download the file"
   ]
  },
  {
   "cell_type": "code",
   "execution_count": 12,
   "metadata": {},
   "outputs": [],
   "source": [
    "final_data.to_excel(url + 'Master_File.xlsx',index = None)"
   ]
  }
 ],
 "metadata": {
  "kernelspec": {
   "display_name": "Python 3",
   "language": "python",
   "name": "python3"
  },
  "language_info": {
   "codemirror_mode": {
    "name": "ipython",
    "version": 3
   },
   "file_extension": ".py",
   "mimetype": "text/x-python",
   "name": "python",
   "nbconvert_exporter": "python",
   "pygments_lexer": "ipython3",
   "version": "3.8.5"
  }
 },
 "nbformat": 4,
 "nbformat_minor": 4
}
